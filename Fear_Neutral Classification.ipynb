{
 "cells": [
  {
   "cell_type": "markdown",
   "id": "6a7e9d36",
   "metadata": {},
   "source": [
    "# Binary Image Classifier | Fear-Neutral"
   ]
  },
  {
   "cell_type": "markdown",
   "id": "6a8747fe",
   "metadata": {},
   "source": [
    "This aim of this project is to train deep learning models using the TensorFlow framework for the purpose of binary image classification for facial emotion recognition. The images used to train the models were retrieved from the __FER2013 dataset__ and the deep learning architecture used to build the models is __Convolutional Neural Network__. Data augmentation was implemented to improved the trained model. Seven different models were trained with a varying number of layers.\n",
    "The emotions used on this image classifier are __fear__ and __neutral__. "
   ]
  },
  {
   "cell_type": "code",
   "execution_count": 1,
   "id": "a121db63",
   "metadata": {},
   "outputs": [],
   "source": [
    "import tensorflow as tf\n",
    "import os\n",
    "\n",
    "import cv2\n",
    "import imghdr\n",
    "\n",
    "import numpy as np\n",
    "import PIL\n",
    "import pathlib\n",
    "from matplotlib import pyplot as plt\n",
    "\n",
    "from tensorflow import keras\n",
    "from tensorflow.keras import layers\n",
    "from tensorflow.keras.models import Sequential\n",
    "from tensorflow.keras.layers import Conv2D, MaxPooling2D, Dense, Flatten, Dropout"
   ]
  },
  {
   "cell_type": "code",
   "execution_count": 2,
   "id": "27938dcd",
   "metadata": {},
   "outputs": [
    {
     "data": {
      "text/plain": [
       "['fear', 'neutral']"
      ]
     },
     "execution_count": 2,
     "metadata": {},
     "output_type": "execute_result"
    }
   ],
   "source": [
    "data_dir = \"data/train\"\n",
    "os.listdir(data_dir)"
   ]
  },
  {
   "cell_type": "code",
   "execution_count": 131,
   "id": "46a318db",
   "metadata": {},
   "outputs": [
    {
     "name": "stdout",
     "output_type": "stream",
     "text": [
      "Fear:  4097 | Neutral:  4965\n"
     ]
    }
   ],
   "source": [
    "#Data count\n",
    "\n",
    "data_path = pathlib.Path(data_dir)\n",
    "\n",
    "image_count = len(list(data_path.glob('*/*.jpg')))\n",
    "fear_image_count = len(list(data_path.glob('fear/*.jpg')))\n",
    "neutral_image_count = len(list(data_path.glob('neutral/*.jpg')))\n",
    "print(\"Fear: \", fear_image_count, \"|\", \"Neutral: \", neutral_image_count)"
   ]
  },
  {
   "cell_type": "code",
   "execution_count": 132,
   "id": "72c91b51",
   "metadata": {},
   "outputs": [
    {
     "name": "stdout",
     "output_type": "stream",
     "text": [
      "9062\n"
     ]
    }
   ],
   "source": [
    "data_dir = pathlib.Path(data_dir)\n",
    "\n",
    "image_count = len(list(data_dir.glob('*/*.jpg')))\n",
    "print(image_count)"
   ]
  },
  {
   "cell_type": "code",
   "execution_count": 4,
   "id": "8b5fd253",
   "metadata": {},
   "outputs": [
    {
     "data": {
      "image/png": "[encoded data removed]",
      "text/plain": [
       "<PIL.JpegImagePlugin.JpegImageFile image mode=L size=48x48 at 0x7FB6471B0520>"
      ]
     },
     "execution_count": 4,
     "metadata": {},
     "output_type": "execute_result"
    }
   ],
   "source": [
    "fear = list(data_dir.glob('fear/*'))\n",
    "PIL.Image.open(str(fear[1]))"
   ]
  },
  {
   "cell_type": "code",
   "execution_count": 5,
   "id": "8a9cebe6",
   "metadata": {},
   "outputs": [
    {
     "data": {
      "image/png": "[encoded data removed]",
      "text/plain": [
       "<PIL.JpegImagePlugin.JpegImageFile image mode=L size=48x48 at 0x7FB63F24EC10>"
      ]
     },
     "execution_count": 5,
     "metadata": {},
     "output_type": "execute_result"
    }
   ],
   "source": [
    "neutral = list(data_dir.glob('neutral/*'))\n",
    "PIL.Image.open(str(neutral[1]))"
   ]
  },
  {
   "cell_type": "markdown",
   "id": "bff300d2",
   "metadata": {},
   "source": [
    "### Load Data"
   ]
  },
  {
   "cell_type": "code",
   "execution_count": 6,
   "id": "5d411e04",
   "metadata": {},
   "outputs": [],
   "source": [
    "batch_size = 32\n",
    "img_height = 256\n",
    "img_width = 256"
   ]
  },
  {
   "cell_type": "markdown",
   "id": "27fe1aea",
   "metadata": {},
   "source": [
    "#### Spliting data for training and validation"
   ]
  },
  {
   "cell_type": "code",
   "execution_count": 7,
   "id": "a0b4a64f",
   "metadata": {},
   "outputs": [
    {
     "name": "stdout",
     "output_type": "stream",
     "text": [
      "Found 9062 files belonging to 2 classes.\n",
      "Using 7250 files for training.\n"
     ]
    },
    {
     "name": "stderr",
     "output_type": "stream",
     "text": [
      "2023-04-26 10:22:58.452091: I tensorflow/core/platform/cpu_feature_guard.cc:151] This TensorFlow binary is optimized with oneAPI Deep Neural Network Library (oneDNN) to use the following CPU instructions in performance-critical operations:  AVX2 FMA\n",
      "To enable them in other operations, rebuild TensorFlow with the appropriate compiler flags.\n"
     ]
    }
   ],
   "source": [
    "train_ds = tf.keras.utils.image_dataset_from_directory(\n",
    "  data_dir,\n",
    "  validation_split=0.2,\n",
    "  subset=\"training\",\n",
    "  seed=123,\n",
    "  image_size=(img_height, img_width),\n",
    "  batch_size=batch_size)"
   ]
  },
  {
   "cell_type": "code",
   "execution_count": 8,
   "id": "ebcb4d05",
   "metadata": {},
   "outputs": [
    {
     "name": "stdout",
     "output_type": "stream",
     "text": [
      "Found 9062 files belonging to 2 classes.\n",
      "Using 1812 files for validation.\n"
     ]
    }
   ],
   "source": [
    "val_ds = tf.keras.utils.image_dataset_from_directory(\n",
    "  data_dir,\n",
    "  validation_split=0.2,\n",
    "  subset=\"validation\",\n",
    "  seed=123,\n",
    "  image_size=(img_height, img_width),\n",
    "  batch_size=batch_size)"
   ]
  },
  {
   "cell_type": "code",
   "execution_count": 9,
   "id": "a2bad286",
   "metadata": {},
   "outputs": [
    {
     "name": "stdout",
     "output_type": "stream",
     "text": [
      "['fear', 'neutral']\n"
     ]
    }
   ],
   "source": [
    "class_names = train_ds.class_names\n",
    "print(class_names)"
   ]
  },
  {
   "cell_type": "code",
   "execution_count": 10,
   "id": "d6845a32",
   "metadata": {},
   "outputs": [],
   "source": [
    "num_classes = len(class_names)"
   ]
  },
  {
   "cell_type": "markdown",
   "id": "01369b4f",
   "metadata": {},
   "source": [
    "### Visualising the data"
   ]
  },
  {
   "cell_type": "code",
   "execution_count": 11,
   "id": "699d2a88",
   "metadata": {},
   "outputs": [
    {
     "data": {
      "image/png": "[encoded data removed]",
      "text/plain": [
       "<Figure size 432x432 with 4 Axes>"
      ]
     },
     "metadata": {
      "needs_background": "light"
     },
     "output_type": "display_data"
    }
   ],
   "source": [
    "plt.figure(figsize=(6, 6))\n",
    "for images, labels in train_ds.take(1):\n",
    "  for i in range(4):\n",
    "    ax = plt.subplot(2, 2, i + 1)\n",
    "    plt.imshow(images[i].numpy().astype(\"uint8\"))\n",
    "    plt.title(class_names[labels[i]])\n",
    "    plt.axis(\"off\")\n"
   ]
  },
  {
   "cell_type": "code",
   "execution_count": 12,
   "id": "9cb6473c",
   "metadata": {},
   "outputs": [
    {
     "name": "stdout",
     "output_type": "stream",
     "text": [
      "(32, 256, 256, 3)\n",
      "(32,)\n"
     ]
    }
   ],
   "source": [
    "for image_batch, labels_batch in train_ds:\n",
    "  print(image_batch.shape)\n",
    "  print(labels_batch.shape)\n",
    "  break\n"
   ]
  },
  {
   "cell_type": "markdown",
   "id": "4820ba13",
   "metadata": {},
   "source": [
    "### Scaling the data"
   ]
  },
  {
   "cell_type": "code",
   "execution_count": 13,
   "id": "0dfefc18",
   "metadata": {},
   "outputs": [],
   "source": [
    "normalization_layer = layers.Rescaling(1./255)"
   ]
  },
  {
   "cell_type": "code",
   "execution_count": 14,
   "id": "f1001079",
   "metadata": {},
   "outputs": [
    {
     "name": "stdout",
     "output_type": "stream",
     "text": [
      "0.013556986 1.0\n"
     ]
    }
   ],
   "source": [
    "normalized_ds = train_ds.map(lambda x, y: (normalization_layer(x), y))\n",
    "image_batch, labels_batch = next(iter(normalized_ds))\n",
    "first_image = image_batch[0]\n",
    "\n",
    "print(np.min(first_image), np.max(first_image))\n"
   ]
  },
  {
   "cell_type": "markdown",
   "id": "e6e5b1c1",
   "metadata": {},
   "source": [
    "### Building the deep learning model"
   ]
  },
  {
   "cell_type": "markdown",
   "id": "a140f6f5",
   "metadata": {},
   "source": [
    "#### 2 Layers"
   ]
  },
  {
   "cell_type": "code",
   "execution_count": 15,
   "id": "7c435b03",
   "metadata": {},
   "outputs": [],
   "source": [
    "mod_2 = Sequential()\n",
    "\n",
    "mod_2.add(Conv2D(16, (3,3), 1, activation='relu', input_shape=(256,256,3)))\n",
    "mod_2.add(MaxPooling2D())\n",
    "\n",
    "mod_2.add(Conv2D(32, (3,3), 1, activation='relu'))\n",
    "mod_2.add(MaxPooling2D())\n",
    "\n",
    "mod_2.add(Flatten())\n",
    "\n",
    "mod_2.add(Dense(256, activation='relu'))\n",
    "mod_2.add(Dense(1, activation='sigmoid'))"
   ]
  },
  {
   "cell_type": "code",
   "execution_count": 16,
   "id": "56f9a6bd",
   "metadata": {},
   "outputs": [],
   "source": [
    "mod_2.compile('adam', loss=tf.losses.BinaryCrossentropy(), metrics=['accuracy'])"
   ]
  },
  {
   "cell_type": "code",
   "execution_count": 17,
   "id": "d7f52295",
   "metadata": {},
   "outputs": [
    {
     "name": "stdout",
     "output_type": "stream",
     "text": [
      "Model: \"sequential\"\n",
      "_________________________________________________________________\n",
      " Layer (type)                Output Shape              Param #   \n",
      "=================================================================\n",
      " conv2d (Conv2D)             (None, 254, 254, 16)      448       \n",
      "                                                                 \n",
      " max_pooling2d (MaxPooling2D  (None, 127, 127, 16)     0         \n",
      " )                                                               \n",
      "                                                                 \n",
      " conv2d_1 (Conv2D)           (None, 125, 125, 32)      4640      \n",
      "                                                                 \n",
      " max_pooling2d_1 (MaxPooling  (None, 62, 62, 32)       0         \n",
      " 2D)                                                             \n",
      "                                                                 \n",
      " flatten (Flatten)           (None, 123008)            0         \n",
      "                                                                 \n",
      " dense (Dense)               (None, 256)               31490304  \n",
      "                                                                 \n",
      " dense_1 (Dense)             (None, 1)                 257       \n",
      "                                                                 \n",
      "=================================================================\n",
      "Total params: 31,495,649\n",
      "Trainable params: 31,495,649\n",
      "Non-trainable params: 0\n",
      "_________________________________________________________________\n"
     ]
    }
   ],
   "source": [
    "mod_2.summary()"
   ]
  },
  {
   "cell_type": "markdown",
   "id": "f5daa802",
   "metadata": {},
   "source": [
    "#### 3 Layers"
   ]
  },
  {
   "cell_type": "code",
   "execution_count": 18,
   "id": "06a2a53c",
   "metadata": {},
   "outputs": [],
   "source": [
    "mod_3 = Sequential()\n",
    "\n",
    "mod_3.add(Conv2D(16, (3,3), 1, activation='relu', input_shape=(256,256,3)))\n",
    "mod_3.add(MaxPooling2D())\n",
    "\n",
    "mod_3.add(Conv2D(32, (3,3), 1, activation='relu'))\n",
    "mod_3.add(MaxPooling2D())\n",
    "\n",
    "mod_3.add(Conv2D(16, (3,3), 1, activation='relu'))\n",
    "mod_3.add(MaxPooling2D())\n",
    "\n",
    "mod_3.add(Flatten())\n",
    "\n",
    "mod_3.add(Dense(256, activation='relu'))\n",
    "mod_3.add(Dense(1, activation='sigmoid'))"
   ]
  },
  {
   "cell_type": "code",
   "execution_count": 19,
   "id": "375a52c4",
   "metadata": {},
   "outputs": [],
   "source": [
    "mod_3.compile('adam', loss=tf.losses.BinaryCrossentropy(), metrics=['accuracy'])"
   ]
  },
  {
   "cell_type": "code",
   "execution_count": 20,
   "id": "703b8c03",
   "metadata": {},
   "outputs": [
    {
     "name": "stdout",
     "output_type": "stream",
     "text": [
      "Model: \"sequential_1\"\n",
      "_________________________________________________________________\n",
      " Layer (type)                Output Shape              Param #   \n",
      "=================================================================\n",
      " conv2d_2 (Conv2D)           (None, 254, 254, 16)      448       \n",
      "                                                                 \n",
      " max_pooling2d_2 (MaxPooling  (None, 127, 127, 16)     0         \n",
      " 2D)                                                             \n",
      "                                                                 \n",
      " conv2d_3 (Conv2D)           (None, 125, 125, 32)      4640      \n",
      "                                                                 \n",
      " max_pooling2d_3 (MaxPooling  (None, 62, 62, 32)       0         \n",
      " 2D)                                                             \n",
      "                                                                 \n",
      " conv2d_4 (Conv2D)           (None, 60, 60, 16)        4624      \n",
      "                                                                 \n",
      " max_pooling2d_4 (MaxPooling  (None, 30, 30, 16)       0         \n",
      " 2D)                                                             \n",
      "                                                                 \n",
      " flatten_1 (Flatten)         (None, 14400)             0         \n",
      "                                                                 \n",
      " dense_2 (Dense)             (None, 256)               3686656   \n",
      "                                                                 \n",
      " dense_3 (Dense)             (None, 1)                 257       \n",
      "                                                                 \n",
      "=================================================================\n",
      "Total params: 3,696,625\n",
      "Trainable params: 3,696,625\n",
      "Non-trainable params: 0\n",
      "_________________________________________________________________\n"
     ]
    }
   ],
   "source": [
    "mod_3.summary()"
   ]
  },
  {
   "cell_type": "markdown",
   "id": "14126035",
   "metadata": {},
   "source": [
    "#### 4 Layers"
   ]
  },
  {
   "cell_type": "code",
   "execution_count": 21,
   "id": "7226d21f",
   "metadata": {},
   "outputs": [],
   "source": [
    "mod_4 = Sequential()\n",
    "\n",
    "mod_4.add(Conv2D(16, (3,3), 1, activation='relu', input_shape=(256,256,3)))\n",
    "mod_4.add(MaxPooling2D())\n",
    "\n",
    "mod_4.add(Conv2D(32, (3,3), 1, activation='relu'))\n",
    "mod_4.add(MaxPooling2D())\n",
    "\n",
    "mod_4.add(Conv2D(32, (3,3), 1, activation='relu'))\n",
    "mod_4.add(MaxPooling2D())\n",
    "\n",
    "mod_4.add(Conv2D(16, (3,3), 1, activation='relu'))\n",
    "mod_4.add(MaxPooling2D())\n",
    "\n",
    "mod_4.add(Flatten())\n",
    "\n",
    "mod_4.add(Dense(256, activation='relu'))\n",
    "mod_4.add(Dense(1, activation='sigmoid'))"
   ]
  },
  {
   "cell_type": "code",
   "execution_count": 22,
   "id": "267838bc",
   "metadata": {},
   "outputs": [],
   "source": [
    "mod_4.compile('adam', loss=tf.losses.BinaryCrossentropy(), metrics=['accuracy'])"
   ]
  },
  {
   "cell_type": "code",
   "execution_count": 23,
   "id": "8963cd9d",
   "metadata": {},
   "outputs": [
    {
     "name": "stdout",
     "output_type": "stream",
     "text": [
      "Model: \"sequential_2\"\n",
      "_________________________________________________________________\n",
      " Layer (type)                Output Shape              Param #   \n",
      "=================================================================\n",
      " conv2d_5 (Conv2D)           (None, 254, 254, 16)      448       \n",
      "                                                                 \n",
      " max_pooling2d_5 (MaxPooling  (None, 127, 127, 16)     0         \n",
      " 2D)                                                             \n",
      "                                                                 \n",
      " conv2d_6 (Conv2D)           (None, 125, 125, 32)      4640      \n",
      "                                                                 \n",
      " max_pooling2d_6 (MaxPooling  (None, 62, 62, 32)       0         \n",
      " 2D)                                                             \n",
      "                                                                 \n",
      " conv2d_7 (Conv2D)           (None, 60, 60, 32)        9248      \n",
      "                                                                 \n",
      " max_pooling2d_7 (MaxPooling  (None, 30, 30, 32)       0         \n",
      " 2D)                                                             \n",
      "                                                                 \n",
      " conv2d_8 (Conv2D)           (None, 28, 28, 16)        4624      \n",
      "                                                                 \n",
      " max_pooling2d_8 (MaxPooling  (None, 14, 14, 16)       0         \n",
      " 2D)                                                             \n",
      "                                                                 \n",
      " flatten_2 (Flatten)         (None, 3136)              0         \n",
      "                                                                 \n",
      " dense_4 (Dense)             (None, 256)               803072    \n",
      "                                                                 \n",
      " dense_5 (Dense)             (None, 1)                 257       \n",
      "                                                                 \n",
      "=================================================================\n",
      "Total params: 822,289\n",
      "Trainable params: 822,289\n",
      "Non-trainable params: 0\n",
      "_________________________________________________________________\n"
     ]
    }
   ],
   "source": [
    "mod_4.summary()"
   ]
  },
  {
   "cell_type": "markdown",
   "id": "53bb70f0",
   "metadata": {},
   "source": [
    "##### 5 Layers"
   ]
  },
  {
   "cell_type": "code",
   "execution_count": 24,
   "id": "8daa251f",
   "metadata": {},
   "outputs": [],
   "source": [
    "mod_5 = Sequential()\n",
    "\n",
    "mod_5.add(Conv2D(16, (3,3), 1, activation='relu', input_shape=(256,256,3)))\n",
    "mod_5.add(MaxPooling2D())\n",
    "\n",
    "mod_5.add(Conv2D(16, (3,3), 1, activation='relu'))\n",
    "mod_5.add(MaxPooling2D())\n",
    "\n",
    "mod_5.add(Conv2D(32, (3,3), 1, activation='relu'))\n",
    "mod_5.add(MaxPooling2D())\n",
    "\n",
    "mod_5.add(Conv2D(32, (3,3), 1, activation='relu'))\n",
    "mod_5.add(MaxPooling2D())\n",
    "\n",
    "mod_5.add(Conv2D(16, (3,3), 1, activation='relu'))\n",
    "mod_5.add(MaxPooling2D())\n",
    "\n",
    "mod_5.add(Flatten())\n",
    "\n",
    "mod_5.add(Dense(256, activation='relu'))\n",
    "mod_5.add(Dense(1, activation='sigmoid'))"
   ]
  },
  {
   "cell_type": "code",
   "execution_count": 25,
   "id": "c400e23f",
   "metadata": {},
   "outputs": [],
   "source": [
    "mod_5.compile('adam', loss=tf.losses.BinaryCrossentropy(), metrics=['accuracy'])"
   ]
  },
  {
   "cell_type": "code",
   "execution_count": 26,
   "id": "56c0f58f",
   "metadata": {},
   "outputs": [
    {
     "name": "stdout",
     "output_type": "stream",
     "text": [
      "Model: \"sequential_3\"\n",
      "_________________________________________________________________\n",
      " Layer (type)                Output Shape              Param #   \n",
      "=================================================================\n",
      " conv2d_9 (Conv2D)           (None, 254, 254, 16)      448       \n",
      "                                                                 \n",
      " max_pooling2d_9 (MaxPooling  (None, 127, 127, 16)     0         \n",
      " 2D)                                                             \n",
      "                                                                 \n",
      " conv2d_10 (Conv2D)          (None, 125, 125, 16)      2320      \n",
      "                                                                 \n",
      " max_pooling2d_10 (MaxPoolin  (None, 62, 62, 16)       0         \n",
      " g2D)                                                            \n",
      "                                                                 \n",
      " conv2d_11 (Conv2D)          (None, 60, 60, 32)        4640      \n",
      "                                                                 \n",
      " max_pooling2d_11 (MaxPoolin  (None, 30, 30, 32)       0         \n",
      " g2D)                                                            \n",
      "                                                                 \n",
      " conv2d_12 (Conv2D)          (None, 28, 28, 32)        9248      \n",
      "                                                                 \n",
      " max_pooling2d_12 (MaxPoolin  (None, 14, 14, 32)       0         \n",
      " g2D)                                                            \n",
      "                                                                 \n",
      " conv2d_13 (Conv2D)          (None, 12, 12, 16)        4624      \n",
      "                                                                 \n",
      " max_pooling2d_13 (MaxPoolin  (None, 6, 6, 16)         0         \n",
      " g2D)                                                            \n",
      "                                                                 \n",
      " flatten_3 (Flatten)         (None, 576)               0         \n",
      "                                                                 \n",
      " dense_6 (Dense)             (None, 256)               147712    \n",
      "                                                                 \n",
      " dense_7 (Dense)             (None, 1)                 257       \n",
      "                                                                 \n",
      "=================================================================\n",
      "Total params: 169,249\n",
      "Trainable params: 169,249\n",
      "Non-trainable params: 0\n",
      "_________________________________________________________________\n"
     ]
    }
   ],
   "source": [
    "mod_5.summary()"
   ]
  },
  {
   "cell_type": "markdown",
   "id": "0df665d6",
   "metadata": {},
   "source": [
    "### Training the Models"
   ]
  },
  {
   "cell_type": "code",
   "execution_count": 27,
   "id": "512aac23",
   "metadata": {},
   "outputs": [],
   "source": [
    "logdir='logs'"
   ]
  },
  {
   "cell_type": "code",
   "execution_count": 28,
   "id": "3563e923",
   "metadata": {},
   "outputs": [],
   "source": [
    "tensorboard_callback = tf.keras.callbacks.TensorBoard(log_dir=logdir)"
   ]
  },
  {
   "cell_type": "code",
   "execution_count": 29,
   "id": "ab69f5bd",
   "metadata": {},
   "outputs": [
    {
     "name": "stdout",
     "output_type": "stream",
     "text": [
      "Epoch 1/20\n",
      "227/227 [==============================] - 139s 611ms/step - loss: 49.9223 - accuracy: 0.6150 - val_loss: 0.6281 - val_accuracy: 0.6694\n",
      "Epoch 2/20\n",
      "227/227 [==============================] - 138s 608ms/step - loss: 0.6031 - accuracy: 0.7048 - val_loss: 0.6296 - val_accuracy: 0.6832\n",
      "Epoch 3/20\n",
      "227/227 [==============================] - 142s 625ms/step - loss: 0.4407 - accuracy: 0.7968 - val_loss: 0.6506 - val_accuracy: 0.6772\n",
      "Epoch 4/20\n",
      "227/227 [==============================] - 147s 647ms/step - loss: 0.3258 - accuracy: 0.8603 - val_loss: 0.7347 - val_accuracy: 0.6794\n",
      "Epoch 5/20\n",
      "227/227 [==============================] - 146s 645ms/step - loss: 0.2425 - accuracy: 0.9000 - val_loss: 0.8903 - val_accuracy: 0.6589\n",
      "Epoch 6/20\n",
      "227/227 [==============================] - 143s 629ms/step - loss: 0.1669 - accuracy: 0.9393 - val_loss: 1.0605 - val_accuracy: 0.6705\n",
      "Epoch 7/20\n",
      "227/227 [==============================] - 149s 655ms/step - loss: 0.1421 - accuracy: 0.9488 - val_loss: 1.3411 - val_accuracy: 0.6418\n",
      "Epoch 8/20\n",
      "227/227 [==============================] - 147s 647ms/step - loss: 0.1240 - accuracy: 0.9614 - val_loss: 1.3294 - val_accuracy: 0.6369\n",
      "Epoch 9/20\n",
      "227/227 [==============================] - 145s 640ms/step - loss: 0.1066 - accuracy: 0.9639 - val_loss: 1.4957 - val_accuracy: 0.6700\n",
      "Epoch 10/20\n",
      "227/227 [==============================] - 146s 642ms/step - loss: 0.1006 - accuracy: 0.9669 - val_loss: 1.8082 - val_accuracy: 0.6468\n",
      "Epoch 11/20\n",
      "227/227 [==============================] - 143s 627ms/step - loss: 0.0656 - accuracy: 0.9797 - val_loss: 2.0082 - val_accuracy: 0.6606\n",
      "Epoch 12/20\n",
      "227/227 [==============================] - 138s 608ms/step - loss: 0.0431 - accuracy: 0.9886 - val_loss: 2.0807 - val_accuracy: 0.6606\n",
      "Epoch 13/20\n",
      "227/227 [==============================] - 139s 613ms/step - loss: 0.0672 - accuracy: 0.9821 - val_loss: 1.8135 - val_accuracy: 0.6589\n",
      "Epoch 14/20\n",
      "227/227 [==============================] - 139s 614ms/step - loss: 0.0931 - accuracy: 0.9676 - val_loss: 1.9818 - val_accuracy: 0.6501\n",
      "Epoch 15/20\n",
      "227/227 [==============================] - 139s 614ms/step - loss: 0.0661 - accuracy: 0.9803 - val_loss: 2.0967 - val_accuracy: 0.6258\n",
      "Epoch 16/20\n",
      "227/227 [==============================] - 158s 697ms/step - loss: 0.0649 - accuracy: 0.9777 - val_loss: 2.7707 - val_accuracy: 0.6589\n",
      "Epoch 17/20\n",
      "227/227 [==============================] - 142s 626ms/step - loss: 0.0445 - accuracy: 0.9873 - val_loss: 2.7785 - val_accuracy: 0.6385\n",
      "Epoch 18/20\n",
      "227/227 [==============================] - 141s 619ms/step - loss: 0.0365 - accuracy: 0.9891 - val_loss: 2.8927 - val_accuracy: 0.6678\n",
      "Epoch 19/20\n",
      "227/227 [==============================] - 140s 615ms/step - loss: 0.0548 - accuracy: 0.9868 - val_loss: 2.5251 - val_accuracy: 0.6468\n",
      "Epoch 20/20\n",
      "227/227 [==============================] - 150s 661ms/step - loss: 0.0400 - accuracy: 0.9886 - val_loss: 2.8407 - val_accuracy: 0.6711\n"
     ]
    }
   ],
   "source": [
    "hist_2 = mod_2.fit(train_ds, epochs=20, validation_data=val_ds, callbacks=[tensorboard_callback])"
   ]
  },
  {
   "cell_type": "code",
   "execution_count": 36,
   "id": "6d9b0763",
   "metadata": {},
   "outputs": [
    {
     "name": "stdout",
     "output_type": "stream",
     "text": [
      "Epoch 1/20\n",
      "227/227 [==============================] - 127s 557ms/step - loss: 5.9766 - accuracy: 0.5697 - val_loss: 0.6752 - val_accuracy: 0.5789\n",
      "Epoch 2/20\n",
      "227/227 [==============================] - 125s 552ms/step - loss: 0.6507 - accuracy: 0.6098 - val_loss: 0.6791 - val_accuracy: 0.5911\n",
      "Epoch 3/20\n",
      "227/227 [==============================] - 125s 551ms/step - loss: 0.6032 - accuracy: 0.6487 - val_loss: 0.7068 - val_accuracy: 0.6026\n",
      "Epoch 4/20\n",
      "227/227 [==============================] - 124s 548ms/step - loss: 0.5467 - accuracy: 0.6858 - val_loss: 0.7440 - val_accuracy: 0.5828\n",
      "Epoch 5/20\n",
      "227/227 [==============================] - 124s 547ms/step - loss: 0.4983 - accuracy: 0.7236 - val_loss: 0.8887 - val_accuracy: 0.5938\n",
      "Epoch 6/20\n",
      "227/227 [==============================] - 660s 3s/step - loss: 0.4516 - accuracy: 0.7517 - val_loss: 0.9397 - val_accuracy: 0.6153\n",
      "Epoch 7/20\n",
      "227/227 [==============================] - 127s 557ms/step - loss: 0.4196 - accuracy: 0.7821 - val_loss: 1.0131 - val_accuracy: 0.6264\n",
      "Epoch 8/20\n",
      "227/227 [==============================] - 130s 572ms/step - loss: 0.3528 - accuracy: 0.8154 - val_loss: 1.0700 - val_accuracy: 0.6104\n",
      "Epoch 9/20\n",
      "227/227 [==============================] - 126s 556ms/step - loss: 0.3179 - accuracy: 0.8397 - val_loss: 1.2026 - val_accuracy: 0.6187\n",
      "Epoch 10/20\n",
      "227/227 [==============================] - 124s 547ms/step - loss: 0.2823 - accuracy: 0.8577 - val_loss: 1.4293 - val_accuracy: 0.6247\n",
      "Epoch 11/20\n",
      "227/227 [==============================] - 124s 546ms/step - loss: 0.2498 - accuracy: 0.8778 - val_loss: 1.4804 - val_accuracy: 0.6192\n",
      "Epoch 12/20\n",
      "227/227 [==============================] - 126s 554ms/step - loss: 0.2338 - accuracy: 0.8917 - val_loss: 1.4289 - val_accuracy: 0.6082\n",
      "Epoch 13/20\n",
      "227/227 [==============================] - 126s 556ms/step - loss: 0.1832 - accuracy: 0.9090 - val_loss: 1.7935 - val_accuracy: 0.6468\n",
      "Epoch 14/20\n",
      "227/227 [==============================] - 124s 548ms/step - loss: 0.1759 - accuracy: 0.9204 - val_loss: 1.7957 - val_accuracy: 0.6297\n",
      "Epoch 15/20\n",
      "227/227 [==============================] - 124s 545ms/step - loss: 0.1828 - accuracy: 0.9217 - val_loss: 1.6351 - val_accuracy: 0.6153\n",
      "Epoch 16/20\n",
      "227/227 [==============================] - 124s 546ms/step - loss: 0.1521 - accuracy: 0.9320 - val_loss: 1.7479 - val_accuracy: 0.6440\n",
      "Epoch 17/20\n",
      "227/227 [==============================] - 124s 546ms/step - loss: 0.1212 - accuracy: 0.9472 - val_loss: 2.1258 - val_accuracy: 0.6203\n",
      "Epoch 18/20\n",
      "227/227 [==============================] - 124s 548ms/step - loss: 0.1176 - accuracy: 0.9447 - val_loss: 2.1028 - val_accuracy: 0.6225\n",
      "Epoch 19/20\n",
      "227/227 [==============================] - 124s 548ms/step - loss: 0.1143 - accuracy: 0.9486 - val_loss: 2.0289 - val_accuracy: 0.6253\n",
      "Epoch 20/20\n",
      "227/227 [==============================] - 124s 548ms/step - loss: 0.0939 - accuracy: 0.9561 - val_loss: 2.2480 - val_accuracy: 0.6385\n"
     ]
    }
   ],
   "source": [
    "hist_3 = mod_3.fit(train_ds, epochs=20, validation_data=val_ds, callbacks=[tensorboard_callback])"
   ]
  },
  {
   "cell_type": "code",
   "execution_count": 37,
   "id": "51cf3218",
   "metadata": {},
   "outputs": [
    {
     "name": "stdout",
     "output_type": "stream",
     "text": [
      "Epoch 1/20\n",
      "227/227 [==============================] - 133s 584ms/step - loss: 1.0153 - accuracy: 0.5847 - val_loss: 0.6593 - val_accuracy: 0.5977\n",
      "Epoch 2/20\n",
      "227/227 [==============================] - 133s 585ms/step - loss: 0.6255 - accuracy: 0.6462 - val_loss: 0.6591 - val_accuracy: 0.6325\n",
      "Epoch 3/20\n",
      "227/227 [==============================] - 132s 583ms/step - loss: 0.5636 - accuracy: 0.7068 - val_loss: 0.6341 - val_accuracy: 0.6573\n",
      "Epoch 4/20\n",
      "227/227 [==============================] - 133s 584ms/step - loss: 0.4764 - accuracy: 0.7623 - val_loss: 0.6908 - val_accuracy: 0.6683\n",
      "Epoch 5/20\n",
      "227/227 [==============================] - 133s 586ms/step - loss: 0.3905 - accuracy: 0.8233 - val_loss: 0.7315 - val_accuracy: 0.6749\n",
      "Epoch 6/20\n",
      "227/227 [==============================] - 136s 597ms/step - loss: 0.2875 - accuracy: 0.8797 - val_loss: 0.9643 - val_accuracy: 0.6716\n",
      "Epoch 7/20\n",
      "227/227 [==============================] - 140s 616ms/step - loss: 0.2081 - accuracy: 0.9160 - val_loss: 1.1483 - val_accuracy: 0.6915\n",
      "Epoch 8/20\n",
      "227/227 [==============================] - 142s 626ms/step - loss: 0.1621 - accuracy: 0.9374 - val_loss: 1.2594 - val_accuracy: 0.6567\n",
      "Epoch 9/20\n",
      "227/227 [==============================] - 147s 649ms/step - loss: 0.1193 - accuracy: 0.9572 - val_loss: 1.3447 - val_accuracy: 0.6611\n",
      "Epoch 10/20\n",
      "227/227 [==============================] - 148s 652ms/step - loss: 0.0826 - accuracy: 0.9713 - val_loss: 1.5707 - val_accuracy: 0.6628\n",
      "Epoch 11/20\n",
      "227/227 [==============================] - 149s 655ms/step - loss: 0.1080 - accuracy: 0.9648 - val_loss: 1.7365 - val_accuracy: 0.6854\n",
      "Epoch 12/20\n",
      "227/227 [==============================] - 147s 646ms/step - loss: 0.0709 - accuracy: 0.9772 - val_loss: 1.7429 - val_accuracy: 0.6783\n",
      "Epoch 13/20\n",
      "227/227 [==============================] - 134s 592ms/step - loss: 0.0621 - accuracy: 0.9785 - val_loss: 1.9334 - val_accuracy: 0.6783\n",
      "Epoch 14/20\n",
      "227/227 [==============================] - 136s 597ms/step - loss: 0.0788 - accuracy: 0.9770 - val_loss: 1.9333 - val_accuracy: 0.6755\n",
      "Epoch 15/20\n",
      "227/227 [==============================] - 135s 593ms/step - loss: 0.0414 - accuracy: 0.9876 - val_loss: 1.8128 - val_accuracy: 0.6860\n",
      "Epoch 16/20\n",
      "227/227 [==============================] - 138s 607ms/step - loss: 0.0551 - accuracy: 0.9822 - val_loss: 2.0492 - val_accuracy: 0.6661\n",
      "Epoch 17/20\n",
      "227/227 [==============================] - 136s 597ms/step - loss: 0.0439 - accuracy: 0.9872 - val_loss: 2.0500 - val_accuracy: 0.6854\n",
      "Epoch 18/20\n",
      "227/227 [==============================] - 136s 598ms/step - loss: 0.0514 - accuracy: 0.9825 - val_loss: 2.3731 - val_accuracy: 0.6777\n",
      "Epoch 19/20\n",
      "227/227 [==============================] - 135s 596ms/step - loss: 0.0489 - accuracy: 0.9861 - val_loss: 2.2350 - val_accuracy: 0.6661\n",
      "Epoch 20/20\n",
      "227/227 [==============================] - 135s 595ms/step - loss: 0.0385 - accuracy: 0.9895 - val_loss: 1.8659 - val_accuracy: 0.6705\n"
     ]
    }
   ],
   "source": [
    "hist_4 = mod_4.fit(train_ds, epochs=20, validation_data=val_ds, callbacks=[tensorboard_callback])"
   ]
  },
  {
   "cell_type": "code",
   "execution_count": 38,
   "id": "b0d616ed",
   "metadata": {},
   "outputs": [
    {
     "name": "stdout",
     "output_type": "stream",
     "text": [
      "Epoch 1/20\n",
      "227/227 [==============================] - 123s 540ms/step - loss: 0.8293 - accuracy: 0.5952 - val_loss: 0.6598 - val_accuracy: 0.6120\n",
      "Epoch 2/20\n",
      "227/227 [==============================] - 124s 545ms/step - loss: 0.6265 - accuracy: 0.6617 - val_loss: 0.6331 - val_accuracy: 0.6534\n",
      "Epoch 3/20\n",
      "227/227 [==============================] - 123s 543ms/step - loss: 0.6066 - accuracy: 0.6808 - val_loss: 0.6113 - val_accuracy: 0.6755\n",
      "Epoch 4/20\n",
      "227/227 [==============================] - 123s 541ms/step - loss: 0.5883 - accuracy: 0.6923 - val_loss: 0.6078 - val_accuracy: 0.6722\n",
      "Epoch 5/20\n",
      "227/227 [==============================] - 122s 536ms/step - loss: 0.5675 - accuracy: 0.7054 - val_loss: 0.6131 - val_accuracy: 0.6694\n",
      "Epoch 6/20\n",
      "227/227 [==============================] - 122s 539ms/step - loss: 0.5622 - accuracy: 0.7105 - val_loss: 0.6013 - val_accuracy: 0.6887\n",
      "Epoch 7/20\n",
      "227/227 [==============================] - 121s 533ms/step - loss: 0.5393 - accuracy: 0.7250 - val_loss: 0.5987 - val_accuracy: 0.6948\n",
      "Epoch 8/20\n",
      "227/227 [==============================] - 123s 541ms/step - loss: 0.5159 - accuracy: 0.7350 - val_loss: 0.6131 - val_accuracy: 0.6926\n",
      "Epoch 9/20\n",
      "227/227 [==============================] - 127s 558ms/step - loss: 0.4944 - accuracy: 0.7578 - val_loss: 0.6064 - val_accuracy: 0.6987\n",
      "Epoch 10/20\n",
      "227/227 [==============================] - 130s 571ms/step - loss: 0.4445 - accuracy: 0.7909 - val_loss: 0.6863 - val_accuracy: 0.6838\n",
      "Epoch 11/20\n",
      "227/227 [==============================] - 122s 537ms/step - loss: 0.4126 - accuracy: 0.8083 - val_loss: 0.7077 - val_accuracy: 0.6871\n",
      "Epoch 12/20\n",
      "227/227 [==============================] - 119s 526ms/step - loss: 0.3591 - accuracy: 0.8359 - val_loss: 0.6840 - val_accuracy: 0.6904\n",
      "Epoch 13/20\n",
      "227/227 [==============================] - 122s 539ms/step - loss: 0.3132 - accuracy: 0.8637 - val_loss: 0.8447 - val_accuracy: 0.6760\n",
      "Epoch 14/20\n",
      "227/227 [==============================] - 131s 577ms/step - loss: 0.2744 - accuracy: 0.8818 - val_loss: 1.0422 - val_accuracy: 0.6727\n",
      "Epoch 15/20\n",
      "227/227 [==============================] - 124s 547ms/step - loss: 0.2443 - accuracy: 0.8972 - val_loss: 1.0825 - val_accuracy: 0.6507\n",
      "Epoch 16/20\n",
      "227/227 [==============================] - 130s 572ms/step - loss: 0.2072 - accuracy: 0.9181 - val_loss: 1.3323 - val_accuracy: 0.6755\n",
      "Epoch 17/20\n",
      "227/227 [==============================] - 132s 580ms/step - loss: 0.1831 - accuracy: 0.9301 - val_loss: 1.0335 - val_accuracy: 0.6716\n",
      "Epoch 18/20\n",
      "227/227 [==============================] - 141s 621ms/step - loss: 0.1494 - accuracy: 0.9458 - val_loss: 1.2320 - val_accuracy: 0.6760\n",
      "Epoch 19/20\n",
      "227/227 [==============================] - 125s 551ms/step - loss: 0.1301 - accuracy: 0.9488 - val_loss: 1.4780 - val_accuracy: 0.6573\n",
      "Epoch 20/20\n",
      "227/227 [==============================] - 121s 534ms/step - loss: 0.1254 - accuracy: 0.9526 - val_loss: 1.5648 - val_accuracy: 0.6661\n"
     ]
    }
   ],
   "source": [
    "hist_5 = mod_5.fit(train_ds, epochs=20, validation_data=val_ds, callbacks=[tensorboard_callback])"
   ]
  },
  {
   "cell_type": "markdown",
   "id": "6d341f99",
   "metadata": {},
   "source": [
    "### Checking Model Performance"
   ]
  },
  {
   "cell_type": "code",
   "execution_count": 39,
   "id": "a1acb92d",
   "metadata": {},
   "outputs": [
    {
     "data": {
      "image/png": "[encoded data removed]",
      "text/plain": [
       "<Figure size 1440x720 with 4 Axes>"
      ]
     },
     "metadata": {
      "needs_background": "light"
     },
     "output_type": "display_data"
    }
   ],
   "source": [
    "fig, axs = plt.subplots(2, 2, figsize=(20, 10))\n",
    "fig.suptitle('Accuracy', fontsize=40)\n",
    "axs[0, 0].plot(hist_2.history['accuracy'], color='green', label='accuracy')\n",
    "axs[0, 0].plot(hist_2.history['val_accuracy'], color='purple', label='val_accuracy')\n",
    "axs[0, 0].legend(loc=\"upper left\")\n",
    "axs[0, 0].set_title('2 Layers')\n",
    "axs[0, 1].plot(hist_3.history['accuracy'], color='green', label='accuracy')\n",
    "axs[0, 1].plot(hist_3.history['val_accuracy'], color='purple', label='val_accuracy')\n",
    "axs[0, 1].legend(loc=\"upper left\")\n",
    "axs[0, 1].set_title('3 Layers')\n",
    "axs[1, 0].plot(hist_4.history['accuracy'], color='green', label='accuracy')\n",
    "axs[1, 0].plot(hist_4.history['val_accuracy'], color='purple', label='val_accuracy')\n",
    "axs[1, 0].legend(loc=\"upper left\")\n",
    "axs[1, 0].set_title('4 Layers')\n",
    "axs[1, 1].plot(hist_5.history['accuracy'], color='green', label='accuracy')\n",
    "axs[1, 1].plot(hist_5.history['val_accuracy'], color='purple', label='val_accuracy')\n",
    "axs[1, 1].legend(loc=\"upper left\")\n",
    "axs[1, 1].set_title('5 Layers')\n",
    "\n",
    "for ax in axs.flat:\n",
    "    ax.set(xlabel='epoch', ylabel='accuracy')\n",
    "\n",
    "\n",
    "fig.tight_layout()"
   ]
  },
  {
   "cell_type": "code",
   "execution_count": 40,
   "id": "7607aa80",
   "metadata": {},
   "outputs": [
    {
     "data": {
      "image/png": "[encoded data removed]",
      "text/plain": [
       "<Figure size 1440x720 with 4 Axes>"
      ]
     },
     "metadata": {
      "needs_background": "light"
     },
     "output_type": "display_data"
    }
   ],
   "source": [
    "fig, axs = plt.subplots(2, 2, figsize=(20, 10))\n",
    "fig.suptitle('Loss', fontsize=40)\n",
    "axs[0, 0].plot(hist_2.history['loss'], color='green', label='loss')\n",
    "axs[0, 0].plot(hist_2.history['val_loss'], color='purple', label='val_loss')\n",
    "axs[0, 0].legend(loc=\"upper left\")\n",
    "axs[0, 0].set_title('2 Layers')\n",
    "axs[0, 1].plot(hist_3.history['loss'], color='green', label='loss')\n",
    "axs[0, 1].plot(hist_3.history['val_loss'], color='purple', label='val_loss')\n",
    "axs[0, 1].legend(loc=\"upper left\")\n",
    "axs[0, 1].set_title('3 Layers')\n",
    "axs[1, 0].plot(hist_4.history['loss'], color='green', label='loss')\n",
    "axs[1, 0].plot(hist_4.history['val_loss'], color='purple', label='val_loss')\n",
    "axs[1, 0].legend(loc=\"upper left\")\n",
    "axs[1, 0].set_title('4 Layers')\n",
    "axs[1, 1].plot(hist_5.history['loss'], color='green', label='loss')\n",
    "axs[1, 1].plot(hist_5.history['val_loss'], color='purple', label='val_loss')\n",
    "axs[1, 1].legend(loc=\"upper left\")\n",
    "axs[1, 1].set_title('5 Layers')\n",
    "\n",
    "for ax in axs.flat:\n",
    "    ax.set(xlabel='epoch', ylabel='loss')\n",
    "\n",
    "\n",
    "fig.tight_layout()"
   ]
  },
  {
   "cell_type": "markdown",
   "id": "a4f0d654",
   "metadata": {},
   "source": [
    "### Creating another model using Softmax activation"
   ]
  },
  {
   "cell_type": "code",
   "execution_count": 209,
   "id": "41e42720",
   "metadata": {},
   "outputs": [],
   "source": [
    "mod_smx = Sequential()\n",
    "\n",
    "mod_smx.add(Conv2D(16, (3,3), 1, activation='relu', input_shape=(256,256,3)))\n",
    "mod_smx.add(MaxPooling2D())\n",
    "\n",
    "mod_smx.add(Conv2D(16, (3,3), 1, activation='relu'))\n",
    "mod_smx.add(MaxPooling2D())\n",
    "\n",
    "mod_smx.add(Conv2D(32, (3,3), 1, activation='relu'))\n",
    "mod_smx.add(MaxPooling2D())\n",
    "\n",
    "mod_smx.add(Conv2D(32, (3,3), 1, activation='relu'))\n",
    "mod_smx.add(MaxPooling2D())\n",
    "\n",
    "mod_smx.add(Conv2D(16, (3,3), 1, activation='relu'))\n",
    "mod_smx.add(MaxPooling2D())\n",
    "\n",
    "mod_smx.add(Flatten())\n",
    "\n",
    "mod_smx.add(Dense(256, activation='relu'))\n",
    "mod_smx.add(Dense(1, activation='softmax'))"
   ]
  },
  {
   "cell_type": "code",
   "execution_count": 42,
   "id": "8e4a55a7",
   "metadata": {},
   "outputs": [],
   "source": [
    "mod_smx.compile('adam', loss=tf.losses.BinaryCrossentropy(), metrics=['accuracy'])"
   ]
  },
  {
   "cell_type": "code",
   "execution_count": 43,
   "id": "dc1b7c7d",
   "metadata": {},
   "outputs": [
    {
     "name": "stdout",
     "output_type": "stream",
     "text": [
      "Model: \"sequential_6\"\n",
      "_________________________________________________________________\n",
      " Layer (type)                Output Shape              Param #   \n",
      "=================================================================\n",
      " conv2d_19 (Conv2D)          (None, 254, 254, 16)      448       \n",
      "                                                                 \n",
      " max_pooling2d_19 (MaxPoolin  (None, 127, 127, 16)     0         \n",
      " g2D)                                                            \n",
      "                                                                 \n",
      " conv2d_20 (Conv2D)          (None, 125, 125, 16)      2320      \n",
      "                                                                 \n",
      " max_pooling2d_20 (MaxPoolin  (None, 62, 62, 16)       0         \n",
      " g2D)                                                            \n",
      "                                                                 \n",
      " conv2d_21 (Conv2D)          (None, 60, 60, 32)        4640      \n",
      "                                                                 \n",
      " max_pooling2d_21 (MaxPoolin  (None, 30, 30, 32)       0         \n",
      " g2D)                                                            \n",
      "                                                                 \n",
      " conv2d_22 (Conv2D)          (None, 28, 28, 32)        9248      \n",
      "                                                                 \n",
      " max_pooling2d_22 (MaxPoolin  (None, 14, 14, 32)       0         \n",
      " g2D)                                                            \n",
      "                                                                 \n",
      " conv2d_23 (Conv2D)          (None, 12, 12, 16)        4624      \n",
      "                                                                 \n",
      " max_pooling2d_23 (MaxPoolin  (None, 6, 6, 16)         0         \n",
      " g2D)                                                            \n",
      "                                                                 \n",
      " flatten_5 (Flatten)         (None, 576)               0         \n",
      "                                                                 \n",
      " dense_10 (Dense)            (None, 256)               147712    \n",
      "                                                                 \n",
      " dense_11 (Dense)            (None, 1)                 257       \n",
      "                                                                 \n",
      "=================================================================\n",
      "Total params: 169,249\n",
      "Trainable params: 169,249\n",
      "Non-trainable params: 0\n",
      "_________________________________________________________________\n"
     ]
    }
   ],
   "source": [
    "mod_smx.summary()"
   ]
  },
  {
   "cell_type": "markdown",
   "id": "a6c920cf",
   "metadata": {},
   "source": [
    "### Another model using SVM"
   ]
  },
  {
   "cell_type": "code",
   "execution_count": 44,
   "id": "51d86a33",
   "metadata": {},
   "outputs": [],
   "source": [
    "mod_svm = Sequential()\n",
    "\n",
    "mod_svm.add(Conv2D(16, (3,3), 1, activation='relu', input_shape=(256,256,3)))\n",
    "mod_svm.add(MaxPooling2D())\n",
    "\n",
    "mod_svm.add(Conv2D(16, (3,3), 1, activation='relu'))\n",
    "mod_svm.add(MaxPooling2D())\n",
    "\n",
    "mod_svm.add(Conv2D(32, (3,3), 1, activation='relu'))\n",
    "mod_svm.add(MaxPooling2D())\n",
    "\n",
    "mod_svm.add(Conv2D(32, (3,3), 1, activation='relu'))\n",
    "mod_svm.add(MaxPooling2D())\n",
    "\n",
    "mod_svm.add(Conv2D(16, (3,3), 1, activation='relu'))\n",
    "mod_svm.add(MaxPooling2D())\n",
    "\n",
    "mod_svm.add(Flatten())\n",
    "\n",
    "mod_svm.add(Dense(256, activation='relu'))\n",
    "mod_svm.add(Dense(1, kernel_regularizer=tf.keras.regularizers.l2(0.01), activation ='linear'))"
   ]
  },
  {
   "cell_type": "code",
   "execution_count": 45,
   "id": "5d6650b6",
   "metadata": {},
   "outputs": [],
   "source": [
    "mod_svm.compile(optimizer = 'adam', loss = 'hinge', metrics = ['accuracy'])"
   ]
  },
  {
   "cell_type": "code",
   "execution_count": 46,
   "id": "8aa48d4b",
   "metadata": {},
   "outputs": [
    {
     "name": "stdout",
     "output_type": "stream",
     "text": [
      "Model: \"sequential_7\"\n",
      "_________________________________________________________________\n",
      " Layer (type)                Output Shape              Param #   \n",
      "=================================================================\n",
      " conv2d_24 (Conv2D)          (None, 254, 254, 16)      448       \n",
      "                                                                 \n",
      " max_pooling2d_24 (MaxPoolin  (None, 127, 127, 16)     0         \n",
      " g2D)                                                            \n",
      "                                                                 \n",
      " conv2d_25 (Conv2D)          (None, 125, 125, 16)      2320      \n",
      "                                                                 \n",
      " max_pooling2d_25 (MaxPoolin  (None, 62, 62, 16)       0         \n",
      " g2D)                                                            \n",
      "                                                                 \n",
      " conv2d_26 (Conv2D)          (None, 60, 60, 32)        4640      \n",
      "                                                                 \n",
      " max_pooling2d_26 (MaxPoolin  (None, 30, 30, 32)       0         \n",
      " g2D)                                                            \n",
      "                                                                 \n",
      " conv2d_27 (Conv2D)          (None, 28, 28, 32)        9248      \n",
      "                                                                 \n",
      " max_pooling2d_27 (MaxPoolin  (None, 14, 14, 32)       0         \n",
      " g2D)                                                            \n",
      "                                                                 \n",
      " conv2d_28 (Conv2D)          (None, 12, 12, 16)        4624      \n",
      "                                                                 \n",
      " max_pooling2d_28 (MaxPoolin  (None, 6, 6, 16)         0         \n",
      " g2D)                                                            \n",
      "                                                                 \n",
      " flatten_6 (Flatten)         (None, 576)               0         \n",
      "                                                                 \n",
      " dense_12 (Dense)            (None, 256)               147712    \n",
      "                                                                 \n",
      " dense_13 (Dense)            (None, 1)                 257       \n",
      "                                                                 \n",
      "=================================================================\n",
      "Total params: 169,249\n",
      "Trainable params: 169,249\n",
      "Non-trainable params: 0\n",
      "_________________________________________________________________\n"
     ]
    }
   ],
   "source": [
    "mod_svm.summary()"
   ]
  },
  {
   "cell_type": "markdown",
   "id": "b2918758",
   "metadata": {},
   "source": [
    "#### Training the new models"
   ]
  },
  {
   "cell_type": "code",
   "execution_count": 47,
   "id": "96edabf2",
   "metadata": {},
   "outputs": [
    {
     "name": "stdout",
     "output_type": "stream",
     "text": [
      "Epoch 1/25\n",
      "227/227 [==============================] - 121s 529ms/step - loss: 0.8262 - accuracy: 0.5502 - val_loss: 0.6732 - val_accuracy: 0.5386\n",
      "Epoch 2/25\n",
      "227/227 [==============================] - 123s 540ms/step - loss: 0.6469 - accuracy: 0.5502 - val_loss: 0.6416 - val_accuracy: 0.5386\n",
      "Epoch 3/25\n",
      "227/227 [==============================] - 129s 566ms/step - loss: 0.6161 - accuracy: 0.5502 - val_loss: 0.6140 - val_accuracy: 0.5386\n",
      "Epoch 4/25\n",
      "227/227 [==============================] - 128s 565ms/step - loss: 0.6012 - accuracy: 0.5502 - val_loss: 0.6269 - val_accuracy: 0.5386\n",
      "Epoch 5/25\n",
      "227/227 [==============================] - 125s 552ms/step - loss: 0.5866 - accuracy: 0.5502 - val_loss: 0.6169 - val_accuracy: 0.5386\n",
      "Epoch 6/25\n",
      "227/227 [==============================] - 120s 528ms/step - loss: 0.5571 - accuracy: 0.5502 - val_loss: 0.6129 - val_accuracy: 0.5386\n",
      "Epoch 7/25\n",
      "227/227 [==============================] - 123s 540ms/step - loss: 0.5409 - accuracy: 0.5502 - val_loss: 0.6088 - val_accuracy: 0.5386\n",
      "Epoch 8/25\n",
      "227/227 [==============================] - 132s 580ms/step - loss: 0.5093 - accuracy: 0.5502 - val_loss: 0.5913 - val_accuracy: 0.5386\n",
      "Epoch 9/25\n",
      "227/227 [==============================] - 122s 536ms/step - loss: 0.4827 - accuracy: 0.5502 - val_loss: 0.6323 - val_accuracy: 0.5386\n",
      "Epoch 10/25\n",
      "227/227 [==============================] - 126s 554ms/step - loss: 0.4322 - accuracy: 0.5502 - val_loss: 0.6214 - val_accuracy: 0.5386\n",
      "Epoch 11/25\n",
      "227/227 [==============================] - 125s 551ms/step - loss: 0.3915 - accuracy: 0.5502 - val_loss: 0.6619 - val_accuracy: 0.5386\n",
      "Epoch 12/25\n",
      "227/227 [==============================] - 120s 529ms/step - loss: 0.3441 - accuracy: 0.5502 - val_loss: 0.7066 - val_accuracy: 0.5386\n",
      "Epoch 13/25\n",
      "227/227 [==============================] - 127s 561ms/step - loss: 0.3101 - accuracy: 0.5502 - val_loss: 0.7042 - val_accuracy: 0.5386\n",
      "Epoch 14/25\n",
      "227/227 [==============================] - 124s 547ms/step - loss: 0.2742 - accuracy: 0.5502 - val_loss: 0.8030 - val_accuracy: 0.5386\n",
      "Epoch 15/25\n",
      "227/227 [==============================] - 120s 528ms/step - loss: 0.2455 - accuracy: 0.5502 - val_loss: 0.8470 - val_accuracy: 0.5386\n",
      "Epoch 16/25\n",
      "227/227 [==============================] - 123s 541ms/step - loss: 0.1894 - accuracy: 0.5502 - val_loss: 1.0078 - val_accuracy: 0.5386\n",
      "Epoch 17/25\n",
      "227/227 [==============================] - 123s 539ms/step - loss: 0.1885 - accuracy: 0.5502 - val_loss: 1.0736 - val_accuracy: 0.5386\n",
      "Epoch 18/25\n",
      "227/227 [==============================] - 121s 532ms/step - loss: 0.1649 - accuracy: 0.5502 - val_loss: 1.0867 - val_accuracy: 0.5386\n",
      "Epoch 19/25\n",
      "227/227 [==============================] - 125s 551ms/step - loss: 0.1288 - accuracy: 0.5502 - val_loss: 1.3752 - val_accuracy: 0.5386\n",
      "Epoch 20/25\n",
      "227/227 [==============================] - 123s 540ms/step - loss: 0.1228 - accuracy: 0.5502 - val_loss: 1.3966 - val_accuracy: 0.5386\n",
      "Epoch 21/25\n",
      "227/227 [==============================] - 122s 536ms/step - loss: 0.0957 - accuracy: 0.5502 - val_loss: 1.4914 - val_accuracy: 0.5386\n",
      "Epoch 22/25\n",
      "227/227 [==============================] - 121s 535ms/step - loss: 0.1131 - accuracy: 0.5502 - val_loss: 1.4792 - val_accuracy: 0.5386\n",
      "Epoch 23/25\n",
      "227/227 [==============================] - 129s 570ms/step - loss: 0.0881 - accuracy: 0.5502 - val_loss: 1.4490 - val_accuracy: 0.5386\n",
      "Epoch 24/25\n",
      "227/227 [==============================] - 119s 523ms/step - loss: 0.0921 - accuracy: 0.5502 - val_loss: 1.4848 - val_accuracy: 0.5386\n",
      "Epoch 25/25\n",
      "227/227 [==============================] - 128s 565ms/step - loss: 0.0981 - accuracy: 0.5502 - val_loss: 1.6902 - val_accuracy: 0.5386\n"
     ]
    }
   ],
   "source": [
    "hist_smx = mod_smx.fit(train_ds, epochs=25, validation_data=val_ds, callbacks=[tensorboard_callback])"
   ]
  },
  {
   "cell_type": "code",
   "execution_count": 48,
   "id": "9c4d9147",
   "metadata": {},
   "outputs": [
    {
     "name": "stdout",
     "output_type": "stream",
     "text": [
      "Epoch 1/25\n",
      "227/227 [==============================] - 121s 529ms/step - loss: 0.9005 - accuracy: 0.5950 - val_loss: 0.8564 - val_accuracy: 0.6352\n",
      "Epoch 2/25\n",
      "227/227 [==============================] - 119s 524ms/step - loss: 0.7412 - accuracy: 0.6625 - val_loss: 0.7675 - val_accuracy: 0.6760\n",
      "Epoch 3/25\n",
      "227/227 [==============================] - 268s 1s/step - loss: 0.6918 - accuracy: 0.6942 - val_loss: 0.6934 - val_accuracy: 0.6727\n",
      "Epoch 4/25\n",
      "227/227 [==============================] - 128s 566ms/step - loss: 0.6614 - accuracy: 0.7072 - val_loss: 0.7391 - val_accuracy: 0.6755\n",
      "Epoch 5/25\n",
      "227/227 [==============================] - 126s 555ms/step - loss: 0.6682 - accuracy: 0.7021 - val_loss: 0.7002 - val_accuracy: 0.6871\n",
      "Epoch 6/25\n",
      "227/227 [==============================] - 121s 532ms/step - loss: 0.6265 - accuracy: 0.7277 - val_loss: 0.6867 - val_accuracy: 0.6959\n",
      "Epoch 7/25\n",
      "227/227 [==============================] - 120s 530ms/step - loss: 0.5981 - accuracy: 0.7341 - val_loss: 0.6745 - val_accuracy: 0.7163\n",
      "Epoch 8/25\n",
      "227/227 [==============================] - 122s 538ms/step - loss: 0.5571 - accuracy: 0.7550 - val_loss: 0.7056 - val_accuracy: 0.7119\n",
      "Epoch 9/25\n",
      "227/227 [==============================] - 133s 586ms/step - loss: 0.5220 - accuracy: 0.7710 - val_loss: 0.6705 - val_accuracy: 0.6932\n",
      "Epoch 10/25\n",
      "227/227 [==============================] - 124s 548ms/step - loss: 0.4743 - accuracy: 0.7858 - val_loss: 0.7596 - val_accuracy: 0.6976\n",
      "Epoch 11/25\n",
      "227/227 [==============================] - 141s 620ms/step - loss: 0.4233 - accuracy: 0.8196 - val_loss: 0.7956 - val_accuracy: 0.6909\n",
      "Epoch 12/25\n",
      "227/227 [==============================] - 152s 669ms/step - loss: 0.3692 - accuracy: 0.8404 - val_loss: 0.8053 - val_accuracy: 0.6805\n",
      "Epoch 13/25\n",
      "227/227 [==============================] - 148s 653ms/step - loss: 0.3309 - accuracy: 0.8583 - val_loss: 0.8124 - val_accuracy: 0.6838\n",
      "Epoch 14/25\n",
      "227/227 [==============================] - 142s 625ms/step - loss: 0.2906 - accuracy: 0.8743 - val_loss: 0.9789 - val_accuracy: 0.6816\n",
      "Epoch 15/25\n",
      "227/227 [==============================] - 134s 590ms/step - loss: 0.2622 - accuracy: 0.8903 - val_loss: 0.9181 - val_accuracy: 0.6755\n",
      "Epoch 16/25\n",
      "227/227 [==============================] - 120s 528ms/step - loss: 0.2143 - accuracy: 0.9134 - val_loss: 0.9456 - val_accuracy: 0.6893\n",
      "Epoch 17/25\n",
      "227/227 [==============================] - 120s 527ms/step - loss: 0.1811 - accuracy: 0.9252 - val_loss: 0.9212 - val_accuracy: 0.6816\n",
      "Epoch 18/25\n",
      "227/227 [==============================] - 120s 530ms/step - loss: 0.1645 - accuracy: 0.9328 - val_loss: 0.9337 - val_accuracy: 0.7025\n",
      "Epoch 19/25\n",
      "227/227 [==============================] - 119s 525ms/step - loss: 0.1332 - accuracy: 0.9474 - val_loss: 1.1022 - val_accuracy: 0.7158\n",
      "Epoch 20/25\n",
      "227/227 [==============================] - 128s 565ms/step - loss: 0.1251 - accuracy: 0.9524 - val_loss: 1.0770 - val_accuracy: 0.7020\n",
      "Epoch 21/25\n",
      "227/227 [==============================] - 125s 549ms/step - loss: 0.1046 - accuracy: 0.9604 - val_loss: 1.2053 - val_accuracy: 0.6838\n",
      "Epoch 22/25\n",
      "227/227 [==============================] - 120s 529ms/step - loss: 0.1131 - accuracy: 0.9545 - val_loss: 1.0776 - val_accuracy: 0.6932\n",
      "Epoch 23/25\n",
      "227/227 [==============================] - 121s 534ms/step - loss: 0.0910 - accuracy: 0.9657 - val_loss: 1.2124 - val_accuracy: 0.7003\n",
      "Epoch 24/25\n",
      "227/227 [==============================] - 120s 529ms/step - loss: 0.0834 - accuracy: 0.9690 - val_loss: 1.2525 - val_accuracy: 0.7141\n",
      "Epoch 25/25\n",
      "227/227 [==============================] - 120s 529ms/step - loss: 0.0918 - accuracy: 0.9674 - val_loss: 1.3110 - val_accuracy: 0.6981\n"
     ]
    }
   ],
   "source": [
    "hist_svm = mod_svm.fit(train_ds, epochs=25, validation_data=val_ds, callbacks=[tensorboard_callback])"
   ]
  },
  {
   "cell_type": "code",
   "execution_count": 49,
   "id": "dfa48250",
   "metadata": {},
   "outputs": [
    {
     "data": {
      "image/png": "[encoded data removed]",
      "text/plain": [
       "<Figure size 1440x720 with 2 Axes>"
      ]
     },
     "metadata": {
      "needs_background": "light"
     },
     "output_type": "display_data"
    }
   ],
   "source": [
    "fig, axs = plt.subplots(1, 2, figsize=(20, 10))\n",
    "fig.suptitle('Accuracy')\n",
    "axs[0].plot(hist_smx.history['accuracy'], color='blue', label='accuracy')\n",
    "axs[0].plot(hist_smx.history['val_accuracy'], color='orange', label='val_accuracy')\n",
    "axs[0].legend(loc=\"upper left\")\n",
    "axs[0].set_title('Softmax')\n",
    "axs[1].plot(hist_svm.history['accuracy'], color='blue', label='accuracy')\n",
    "axs[1].plot(hist_svm.history['val_accuracy'], color='orange', label='val_accuracy')\n",
    "axs[1].legend(loc=\"upper left\")\n",
    "axs[1].set_title('SVM')\n",
    "\n",
    "for ax in axs.flat:\n",
    "    ax.set(xlabel='epoch', ylabel='accuracy')\n"
   ]
  },
  {
   "cell_type": "code",
   "execution_count": 50,
   "id": "4b00e92c",
   "metadata": {},
   "outputs": [
    {
     "data": {
      "image/png": "[encoded data removed]",
      "text/plain": [
       "<Figure size 1440x720 with 2 Axes>"
      ]
     },
     "metadata": {
      "needs_background": "light"
     },
     "output_type": "display_data"
    }
   ],
   "source": [
    "fig, axs = plt.subplots(1, 2, figsize=(20, 10))\n",
    "fig.suptitle('Loss')\n",
    "axs[0].plot(hist_smx.history['loss'], color='blue', label='loss')\n",
    "axs[0].plot(hist_smx.history['val_loss'], color='orange', label='val_loss')\n",
    "axs[0].legend(loc=\"upper left\")\n",
    "axs[0].set_title('Softmax')\n",
    "axs[1].plot(hist_svm.history['loss'], color='blue', label='loss')\n",
    "axs[1].plot(hist_svm.history['val_loss'], color='orange', label='val_loss')\n",
    "axs[1].legend(loc=\"upper left\")\n",
    "axs[1].set_title('SVM')\n",
    "\n",
    "for ax in axs.flat:\n",
    "    ax.set(xlabel='epoch', ylabel='loss')\n",
    "\n"
   ]
  },
  {
   "cell_type": "markdown",
   "id": "acf27e84",
   "metadata": {},
   "source": [
    "### Augmenting the data"
   ]
  },
  {
   "cell_type": "code",
   "execution_count": 51,
   "id": "e5da76ce",
   "metadata": {},
   "outputs": [],
   "source": [
    "data_augmentation = keras.Sequential(\n",
    "  [\n",
    "    layers.RandomFlip(\"horizontal\",\n",
    "                      input_shape=(img_height,\n",
    "                                  img_width,\n",
    "                                  3)),\n",
    "    layers.RandomRotation(0.1),\n",
    "    layers.RandomZoom(0.1),\n",
    "  ]\n",
    ")"
   ]
  },
  {
   "cell_type": "code",
   "execution_count": 52,
   "id": "ba339f60",
   "metadata": {},
   "outputs": [
    {
     "data": {
      "image/png": "[encoded data removed]",
      "text/plain": [
       "<Figure size 432x432 with 4 Axes>"
      ]
     },
     "metadata": {
      "needs_background": "light"
     },
     "output_type": "display_data"
    }
   ],
   "source": [
    "plt.figure(figsize=(6, 6))\n",
    "for images, _ in train_ds.take(1):\n",
    "  for i in range(4):\n",
    "    augmented_images = data_augmentation(images)\n",
    "    ax = plt.subplot(2, 2, i + 1)\n",
    "    plt.imshow(augmented_images[0].numpy().astype(\"uint8\"))\n",
    "    plt.axis(\"off\")\n"
   ]
  },
  {
   "cell_type": "markdown",
   "id": "fa238c5f",
   "metadata": {},
   "source": [
    "### Adding a dropout layer"
   ]
  },
  {
   "cell_type": "code",
   "execution_count": 53,
   "id": "fe77ad57",
   "metadata": {},
   "outputs": [],
   "source": [
    "mod_5d = Sequential()\n",
    "\n",
    "mod_5d.add(data_augmentation)\n",
    "\n",
    "mod_5d.add(Conv2D(16, (3,3), 1, activation='relu', input_shape=(256,256,3)))\n",
    "mod_5d.add(MaxPooling2D())\n",
    "\n",
    "mod_5d.add(Conv2D(16, (3,3), 1, activation='relu'))\n",
    "mod_5d.add(MaxPooling2D())\n",
    "\n",
    "mod_5d.add(Conv2D(32, (3,3), 1, activation='relu'))\n",
    "mod_5d.add(MaxPooling2D())\n",
    "\n",
    "mod_5d.add(Conv2D(32, (3,3), 1, activation='relu'))\n",
    "mod_5d.add(MaxPooling2D())\n",
    "\n",
    "mod_5d.add(Conv2D(16, (3,3), 1, activation='relu'))\n",
    "mod_5d.add(MaxPooling2D())\n",
    "\n",
    "mod_5d.add(Dropout(0.2))\n",
    "\n",
    "mod_5d.add(Flatten())\n",
    "\n",
    "mod_5d.add(Dense(256, activation='relu'))\n",
    "mod_5d.add(Dense(1, activation='sigmoid'))"
   ]
  },
  {
   "cell_type": "code",
   "execution_count": 54,
   "id": "519142c8",
   "metadata": {},
   "outputs": [],
   "source": [
    "mod_5d.compile('adam', loss=tf.losses.BinaryCrossentropy(), metrics=['accuracy'])"
   ]
  },
  {
   "cell_type": "code",
   "execution_count": 55,
   "id": "1d72ffd7",
   "metadata": {},
   "outputs": [
    {
     "name": "stdout",
     "output_type": "stream",
     "text": [
      "Model: \"sequential_9\"\n",
      "_________________________________________________________________\n",
      " Layer (type)                Output Shape              Param #   \n",
      "=================================================================\n",
      " sequential_8 (Sequential)   (None, 256, 256, 3)       0         \n",
      "                                                                 \n",
      " conv2d_29 (Conv2D)          (None, 254, 254, 16)      448       \n",
      "                                                                 \n",
      " max_pooling2d_29 (MaxPoolin  (None, 127, 127, 16)     0         \n",
      " g2D)                                                            \n",
      "                                                                 \n",
      " conv2d_30 (Conv2D)          (None, 125, 125, 16)      2320      \n",
      "                                                                 \n",
      " max_pooling2d_30 (MaxPoolin  (None, 62, 62, 16)       0         \n",
      " g2D)                                                            \n",
      "                                                                 \n",
      " conv2d_31 (Conv2D)          (None, 60, 60, 32)        4640      \n",
      "                                                                 \n",
      " max_pooling2d_31 (MaxPoolin  (None, 30, 30, 32)       0         \n",
      " g2D)                                                            \n",
      "                                                                 \n",
      " conv2d_32 (Conv2D)          (None, 28, 28, 32)        9248      \n",
      "                                                                 \n",
      " max_pooling2d_32 (MaxPoolin  (None, 14, 14, 32)       0         \n",
      " g2D)                                                            \n",
      "                                                                 \n",
      " conv2d_33 (Conv2D)          (None, 12, 12, 16)        4624      \n",
      "                                                                 \n",
      " max_pooling2d_33 (MaxPoolin  (None, 6, 6, 16)         0         \n",
      " g2D)                                                            \n",
      "                                                                 \n",
      " dropout_1 (Dropout)         (None, 6, 6, 16)          0         \n",
      "                                                                 \n",
      " flatten_7 (Flatten)         (None, 576)               0         \n",
      "                                                                 \n",
      " dense_14 (Dense)            (None, 256)               147712    \n",
      "                                                                 \n",
      " dense_15 (Dense)            (None, 1)                 257       \n",
      "                                                                 \n",
      "=================================================================\n",
      "Total params: 169,249\n",
      "Trainable params: 169,249\n",
      "Non-trainable params: 0\n",
      "_________________________________________________________________\n"
     ]
    }
   ],
   "source": [
    "mod_5d.summary()"
   ]
  },
  {
   "cell_type": "code",
   "execution_count": 56,
   "id": "97f878fc",
   "metadata": {},
   "outputs": [
    {
     "name": "stdout",
     "output_type": "stream",
     "text": [
      "Epoch 1/25\n",
      "227/227 [==============================] - 142s 620ms/step - loss: 0.8272 - accuracy: 0.5426 - val_loss: 0.6832 - val_accuracy: 0.5613\n",
      "Epoch 2/25\n",
      "227/227 [==============================] - 139s 611ms/step - loss: 0.6791 - accuracy: 0.5812 - val_loss: 0.6774 - val_accuracy: 0.5684\n",
      "Epoch 3/25\n",
      "227/227 [==============================] - 135s 596ms/step - loss: 0.6718 - accuracy: 0.5891 - val_loss: 0.6767 - val_accuracy: 0.5695\n",
      "Epoch 4/25\n",
      "227/227 [==============================] - 135s 595ms/step - loss: 0.6531 - accuracy: 0.6167 - val_loss: 0.6357 - val_accuracy: 0.6584\n",
      "Epoch 5/25\n",
      "227/227 [==============================] - 135s 594ms/step - loss: 0.6420 - accuracy: 0.6451 - val_loss: 0.6257 - val_accuracy: 0.6512\n",
      "Epoch 6/25\n",
      "227/227 [==============================] - 135s 595ms/step - loss: 0.6376 - accuracy: 0.6447 - val_loss: 0.6246 - val_accuracy: 0.6705\n",
      "Epoch 7/25\n",
      "227/227 [==============================] - 134s 592ms/step - loss: 0.6360 - accuracy: 0.6510 - val_loss: 0.6152 - val_accuracy: 0.6716\n",
      "Epoch 8/25\n",
      "227/227 [==============================] - 135s 594ms/step - loss: 0.6217 - accuracy: 0.6629 - val_loss: 0.6209 - val_accuracy: 0.6600\n",
      "Epoch 9/25\n",
      "227/227 [==============================] - 137s 602ms/step - loss: 0.6118 - accuracy: 0.6650 - val_loss: 0.6120 - val_accuracy: 0.6683\n",
      "Epoch 10/25\n",
      "227/227 [==============================] - 136s 600ms/step - loss: 0.6028 - accuracy: 0.6771 - val_loss: 0.5868 - val_accuracy: 0.6898\n",
      "Epoch 11/25\n",
      "227/227 [==============================] - 137s 603ms/step - loss: 0.5972 - accuracy: 0.6866 - val_loss: 0.5845 - val_accuracy: 0.7014\n",
      "Epoch 12/25\n",
      "227/227 [==============================] - 136s 598ms/step - loss: 0.5982 - accuracy: 0.6822 - val_loss: 0.5779 - val_accuracy: 0.6965\n",
      "Epoch 13/25\n",
      "227/227 [==============================] - 137s 604ms/step - loss: 0.5919 - accuracy: 0.6921 - val_loss: 0.5824 - val_accuracy: 0.7009\n",
      "Epoch 14/25\n",
      "227/227 [==============================] - 136s 600ms/step - loss: 0.5817 - accuracy: 0.6964 - val_loss: 0.5633 - val_accuracy: 0.7114\n",
      "Epoch 15/25\n",
      "227/227 [==============================] - 136s 598ms/step - loss: 0.5793 - accuracy: 0.6942 - val_loss: 0.5702 - val_accuracy: 0.7025\n",
      "Epoch 16/25\n",
      "227/227 [==============================] - 136s 597ms/step - loss: 0.5774 - accuracy: 0.6979 - val_loss: 0.5565 - val_accuracy: 0.7202\n",
      "Epoch 17/25\n",
      "227/227 [==============================] - 136s 597ms/step - loss: 0.5733 - accuracy: 0.6982 - val_loss: 0.5766 - val_accuracy: 0.6959\n",
      "Epoch 18/25\n",
      "227/227 [==============================] - 1961s 9s/step - loss: 0.5640 - accuracy: 0.7137 - val_loss: 0.5547 - val_accuracy: 0.7174\n",
      "Epoch 19/25\n",
      "227/227 [==============================] - 389s 2s/step - loss: 0.5639 - accuracy: 0.7008 - val_loss: 0.5519 - val_accuracy: 0.7108\n",
      "Epoch 20/25\n",
      "227/227 [==============================] - 393s 2s/step - loss: 0.5604 - accuracy: 0.7074 - val_loss: 0.5650 - val_accuracy: 0.7141\n",
      "Epoch 21/25\n",
      "227/227 [==============================] - 317s 1s/step - loss: 0.5560 - accuracy: 0.7154 - val_loss: 0.5596 - val_accuracy: 0.7097\n",
      "Epoch 22/25\n",
      "227/227 [==============================] - 154s 679ms/step - loss: 0.5522 - accuracy: 0.7181 - val_loss: 0.5521 - val_accuracy: 0.7224\n",
      "Epoch 23/25\n",
      "227/227 [==============================] - 139s 610ms/step - loss: 0.5423 - accuracy: 0.7222 - val_loss: 0.5579 - val_accuracy: 0.7180\n",
      "Epoch 24/25\n",
      "227/227 [==============================] - 137s 603ms/step - loss: 0.5498 - accuracy: 0.7208 - val_loss: 0.5654 - val_accuracy: 0.7075\n",
      "Epoch 25/25\n",
      "227/227 [==============================] - 137s 604ms/step - loss: 0.5526 - accuracy: 0.7168 - val_loss: 0.5443 - val_accuracy: 0.7312\n"
     ]
    }
   ],
   "source": [
    "hist_5d = mod_5d.fit(train_ds, epochs=25, validation_data=val_ds, callbacks=[tensorboard_callback])"
   ]
  },
  {
   "cell_type": "code",
   "execution_count": 57,
   "id": "bc7e0362",
   "metadata": {},
   "outputs": [
    {
     "data": {
      "image/png": "[encoded data removed]",
      "text/plain": [
       "<Figure size 1440x720 with 2 Axes>"
      ]
     },
     "metadata": {
      "needs_background": "light"
     },
     "output_type": "display_data"
    }
   ],
   "source": [
    "acc = hist_5d.history['accuracy']\n",
    "val_acc = hist_5d.history['val_accuracy']\n",
    "\n",
    "loss = hist_5d.history['loss']\n",
    "val_loss = hist_5d.history['val_loss']\n",
    "\n",
    "epochs_range = range(25)\n",
    "\n",
    "plt.figure(figsize=(20, 10))\n",
    "plt.subplot(1, 2, 1)\n",
    "plt.plot(epochs_range, acc, label='Training Accuracy')\n",
    "plt.plot(epochs_range, val_acc, label='Validation Accuracy')\n",
    "plt.legend(loc='upper left')\n",
    "plt.title('Training and Validation Accuracy')\n",
    "\n",
    "plt.subplot(1, 2, 2)\n",
    "plt.plot(epochs_range, loss, label='Training Loss')\n",
    "plt.plot(epochs_range, val_loss, label='Validation Loss')\n",
    "plt.legend(loc='upper right')\n",
    "plt.title('Training and Validation Loss')\n",
    "plt.show()\n"
   ]
  },
  {
   "cell_type": "markdown",
   "id": "88564565",
   "metadata": {},
   "source": [
    "## Performance Evaluation"
   ]
  },
  {
   "cell_type": "code",
   "execution_count": 58,
   "id": "d5450874",
   "metadata": {},
   "outputs": [],
   "source": [
    "import pandas as pd\n",
    "\n",
    "from tensorflow.keras.metrics import Precision, Recall, BinaryAccuracy\n",
    "\n",
    "from sklearn.model_selection import train_test_split\n",
    "from sklearn.preprocessing import StandardScaler\n",
    "from sklearn.linear_model import LogisticRegression\n",
    "from sklearn.metrics import accuracy_score\n",
    "from sklearn.metrics import confusion_matrix\n",
    "from sklearn.metrics import classification_report"
   ]
  },
  {
   "cell_type": "code",
   "execution_count": 59,
   "id": "f26e15ca",
   "metadata": {},
   "outputs": [
    {
     "data": {
      "text/plain": [
       "['fear', 'neutral']"
      ]
     },
     "execution_count": 59,
     "metadata": {},
     "output_type": "execute_result"
    }
   ],
   "source": [
    "test_dir = 'data/test'\n",
    "os.listdir(test_dir)"
   ]
  },
  {
   "cell_type": "code",
   "execution_count": 147,
   "id": "1ccb759b",
   "metadata": {},
   "outputs": [
    {
     "name": "stdout",
     "output_type": "stream",
     "text": [
      "Found 2257 files belonging to 2 classes.\n"
     ]
    }
   ],
   "source": [
    "test_ds = tf.keras.preprocessing.image_dataset_from_directory(\n",
    "  test_dir,\n",
    "  image_size=(256, 256),\n",
    "    batch_size = 753)"
   ]
  },
  {
   "cell_type": "code",
   "execution_count": 148,
   "id": "e3160c91",
   "metadata": {},
   "outputs": [],
   "source": [
    "test_iterator = test_ds.as_numpy_iterator()"
   ]
  },
  {
   "cell_type": "code",
   "execution_count": 149,
   "id": "c7edf974",
   "metadata": {},
   "outputs": [],
   "source": [
    "test_batch = test_iterator.next()"
   ]
  },
  {
   "cell_type": "code",
   "execution_count": 150,
   "id": "6d304991",
   "metadata": {},
   "outputs": [
    {
     "data": {
      "text/plain": [
       "(753, 256, 256, 3)"
      ]
     },
     "execution_count": 150,
     "metadata": {},
     "output_type": "execute_result"
    }
   ],
   "source": [
    "test_batch[0].shape"
   ]
  },
  {
   "cell_type": "code",
   "execution_count": 151,
   "id": "13d1a4e0",
   "metadata": {},
   "outputs": [],
   "source": [
    "pre = Precision()\n",
    "re = Recall()\n",
    "biacc = BinaryAccuracy()"
   ]
  },
  {
   "cell_type": "code",
   "execution_count": 152,
   "id": "f0947113",
   "metadata": {},
   "outputs": [],
   "source": [
    "for test_batch in test_ds.as_numpy_iterator(): \n",
    "    X, y = test_batch\n",
    "    yhat = mod_5d.predict(X)\n",
    "    pre.update_state(y, yhat)\n",
    "    re.update_state(y, yhat)\n",
    "    biacc.update_state(y, yhat)"
   ]
  },
  {
   "cell_type": "code",
   "execution_count": 153,
   "id": "ce242dce",
   "metadata": {},
   "outputs": [
    {
     "name": "stdout",
     "output_type": "stream",
     "text": [
      "Precision: 0.7334348559379578, Recall:0.7810218930244446, Accuracy:0.7253136038780212\n"
     ]
    }
   ],
   "source": [
    "print(f'Precision: {pre.result().numpy()}, Recall:{re.result().numpy()}, Accuracy:{biacc.result().numpy()}')"
   ]
  },
  {
   "cell_type": "code",
   "execution_count": 154,
   "id": "76e421cd",
   "metadata": {},
   "outputs": [
    {
     "data": {
      "text/plain": [
       "(751, 1)"
      ]
     },
     "execution_count": 154,
     "metadata": {},
     "output_type": "execute_result"
    }
   ],
   "source": [
    "yhat.shape"
   ]
  },
  {
   "cell_type": "code",
   "execution_count": 155,
   "id": "d005fe75",
   "metadata": {
    "collapsed": true
   },
   "outputs": [
    {
     "data": {
      "text/plain": [
       "array([[0.4031121 ],\n",
       "       [0.40919304],\n",
       "       [0.42417365],\n",
       "       [0.6247748 ],\n",
       "       [0.935001  ],\n",
       "       [0.39013505],\n",
       "       [0.64375204],\n",
       "       [0.54810923],\n",
       "       [0.88933086],\n",
       "       [0.5319656 ],\n",
       "       [0.6291572 ],\n",
       "       [0.10575092],\n",
       "       [0.95904386],\n",
       "       [0.47298318],\n",
       "       [0.7176548 ],\n",
       "       [0.63510543],\n",
       "       [0.5798921 ],\n",
       "       [0.18844405],\n",
       "       [0.5025196 ],\n",
       "       [0.45452642],\n",
       "       [0.40107173],\n",
       "       [0.31608993],\n",
       "       [0.30369562],\n",
       "       [0.5674564 ],\n",
       "       [0.26062405],\n",
       "       [0.2549823 ],\n",
       "       [0.8433876 ],\n",
       "       [0.28604132],\n",
       "       [0.51470774],\n",
       "       [0.5325554 ],\n",
       "       [0.76746815],\n",
       "       [0.4744957 ],\n",
       "       [0.53400147],\n",
       "       [0.7647065 ],\n",
       "       [0.44675523],\n",
       "       [0.636608  ],\n",
       "       [0.7910049 ],\n",
       "       [0.40810663],\n",
       "       [0.23943275],\n",
       "       [0.5176879 ],\n",
       "       [0.6405114 ],\n",
       "       [0.7996876 ],\n",
       "       [0.34112787],\n",
       "       [0.42982903],\n",
       "       [0.8423324 ],\n",
       "       [0.69628835],\n",
       "       [0.27653348],\n",
       "       [0.8528351 ],\n",
       "       [0.62449396],\n",
       "       [0.58294606],\n",
       "       [0.5453534 ],\n",
       "       [0.4288183 ],\n",
       "       [0.7717061 ],\n",
       "       [0.08911809],\n",
       "       [0.7194502 ],\n",
       "       [0.61485994],\n",
       "       [0.59439456],\n",
       "       [0.6134495 ],\n",
       "       [0.4523915 ],\n",
       "       [0.57412857],\n",
       "       [0.5389986 ],\n",
       "       [0.63241726],\n",
       "       [0.47638193],\n",
       "       [0.38163447],\n",
       "       [0.78325737],\n",
       "       [0.6602446 ],\n",
       "       [0.465377  ],\n",
       "       [0.15592495],\n",
       "       [0.3017906 ],\n",
       "       [0.06471553],\n",
       "       [0.8584918 ],\n",
       "       [0.5469264 ],\n",
       "       [0.45514172],\n",
       "       [0.47082624],\n",
       "       [0.51376355],\n",
       "       [0.49337792],\n",
       "       [0.6600756 ],\n",
       "       [0.09419438],\n",
       "       [0.8651246 ],\n",
       "       [0.11450553],\n",
       "       [0.249365  ],\n",
       "       [0.48870876],\n",
       "       [0.07384565],\n",
       "       [0.07353941],\n",
       "       [0.4849093 ],\n",
       "       [0.6532717 ],\n",
       "       [0.4872233 ],\n",
       "       [0.2514122 ],\n",
       "       [0.43879414],\n",
       "       [0.84579486],\n",
       "       [0.3018481 ],\n",
       "       [0.5773122 ],\n",
       "       [0.4323787 ],\n",
       "       [0.44684467],\n",
       "       [0.3303714 ],\n",
       "       [0.28213775],\n",
       "       [0.69458747],\n",
       "       [0.5735365 ],\n",
       "       [0.5122816 ],\n",
       "       [0.04179475],\n",
       "       [0.6922376 ],\n",
       "       [0.15083507],\n",
       "       [0.88778996],\n",
       "       [0.4066109 ],\n",
       "       [0.31977797],\n",
       "       [0.39312172],\n",
       "       [0.24078569],\n",
       "       [0.6575835 ],\n",
       "       [0.45114657],\n",
       "       [0.36640376],\n",
       "       [0.36130172],\n",
       "       [0.6983439 ],\n",
       "       [0.69770706],\n",
       "       [0.652347  ],\n",
       "       [0.9249655 ],\n",
       "       [0.65346   ],\n",
       "       [0.67428416],\n",
       "       [0.8818673 ],\n",
       "       [0.883337  ],\n",
       "       [0.66191006],\n",
       "       [0.5390757 ],\n",
       "       [0.39768508],\n",
       "       [0.3082077 ],\n",
       "       [0.56407887],\n",
       "       [0.6663733 ],\n",
       "       [0.7414274 ],\n",
       "       [0.3448613 ],\n",
       "       [0.25690147],\n",
       "       [0.5977314 ],\n",
       "       [0.8190758 ],\n",
       "       [0.62579346],\n",
       "       [0.74910647],\n",
       "       [0.54664946],\n",
       "       [0.6734056 ],\n",
       "       [0.17147371],\n",
       "       [0.6133457 ],\n",
       "       [0.22332752],\n",
       "       [0.41864356],\n",
       "       [0.4883831 ],\n",
       "       [0.6624297 ],\n",
       "       [0.37598005],\n",
       "       [0.6921896 ],\n",
       "       [0.54475605],\n",
       "       [0.2744689 ],\n",
       "       [0.5064405 ],\n",
       "       [0.2613181 ],\n",
       "       [0.07326671],\n",
       "       [0.42878482],\n",
       "       [0.63123626],\n",
       "       [0.59456974],\n",
       "       [0.2601131 ],\n",
       "       [0.7755194 ],\n",
       "       [0.1565446 ],\n",
       "       [0.76241183],\n",
       "       [0.6569611 ],\n",
       "       [0.6754336 ],\n",
       "       [0.65321743],\n",
       "       [0.5153387 ],\n",
       "       [0.21308264],\n",
       "       [0.74783546],\n",
       "       [0.32745314],\n",
       "       [0.266323  ],\n",
       "       [0.03811097],\n",
       "       [0.3793335 ],\n",
       "       [0.76637745],\n",
       "       [0.7442    ],\n",
       "       [0.24045527],\n",
       "       [0.23417652],\n",
       "       [0.55663085],\n",
       "       [0.69906324],\n",
       "       [0.7210426 ],\n",
       "       [0.75101197],\n",
       "       [0.5666015 ],\n",
       "       [0.5063902 ],\n",
       "       [0.48394006],\n",
       "       [0.4569565 ],\n",
       "       [0.7287211 ],\n",
       "       [0.62725645],\n",
       "       [0.7329974 ],\n",
       "       [0.6120459 ],\n",
       "       [0.7646231 ],\n",
       "       [0.60527605],\n",
       "       [0.72074115],\n",
       "       [0.55065125],\n",
       "       [0.14125988],\n",
       "       [0.6029506 ],\n",
       "       [0.13123551],\n",
       "       [0.3624558 ],\n",
       "       [0.2806382 ],\n",
       "       [0.8000454 ],\n",
       "       [0.72059387],\n",
       "       [0.6586411 ],\n",
       "       [0.6821257 ],\n",
       "       [0.4699741 ],\n",
       "       [0.34116673],\n",
       "       [0.8340026 ],\n",
       "       [0.3906615 ],\n",
       "       [0.27428555],\n",
       "       [0.60623056],\n",
       "       [0.78534544],\n",
       "       [0.6273487 ],\n",
       "       [0.481709  ],\n",
       "       [0.514132  ],\n",
       "       [0.48910105],\n",
       "       [0.6318745 ],\n",
       "       [0.22038156],\n",
       "       [0.4939435 ],\n",
       "       [0.28809655],\n",
       "       [0.80450785],\n",
       "       [0.65691906],\n",
       "       [0.5080929 ],\n",
       "       [0.02941266],\n",
       "       [0.5263659 ],\n",
       "       [0.7443421 ],\n",
       "       [0.2042236 ],\n",
       "       [0.771672  ],\n",
       "       [0.64154506],\n",
       "       [0.20770684],\n",
       "       [0.21746612],\n",
       "       [0.06804004],\n",
       "       [0.84850407],\n",
       "       [0.39996684],\n",
       "       [0.7621014 ],\n",
       "       [0.51278126],\n",
       "       [0.5385316 ],\n",
       "       [0.3669635 ],\n",
       "       [0.472296  ],\n",
       "       [0.41287726],\n",
       "       [0.7431654 ],\n",
       "       [0.8805557 ],\n",
       "       [0.5899251 ],\n",
       "       [0.5880272 ],\n",
       "       [0.1410639 ],\n",
       "       [0.68920195],\n",
       "       [0.53734773],\n",
       "       [0.26216912],\n",
       "       [0.8315536 ],\n",
       "       [0.4954672 ],\n",
       "       [0.1810891 ],\n",
       "       [0.2555316 ],\n",
       "       [0.7883804 ],\n",
       "       [0.74001026],\n",
       "       [0.33938864],\n",
       "       [0.6048044 ],\n",
       "       [0.31425637],\n",
       "       [0.80606663],\n",
       "       [0.4169154 ],\n",
       "       [0.53170645],\n",
       "       [0.47051296],\n",
       "       [0.4065861 ],\n",
       "       [0.54559326],\n",
       "       [0.7853166 ],\n",
       "       [0.43021387],\n",
       "       [0.70775235],\n",
       "       [0.19793004],\n",
       "       [0.35213366],\n",
       "       [0.7050104 ],\n",
       "       [0.0288564 ],\n",
       "       [0.67374307],\n",
       "       [0.39307058],\n",
       "       [0.36567664],\n",
       "       [0.6994139 ],\n",
       "       [0.3584993 ],\n",
       "       [0.7996143 ],\n",
       "       [0.5349977 ],\n",
       "       [0.58126134],\n",
       "       [0.66866463],\n",
       "       [0.57088447],\n",
       "       [0.48559538],\n",
       "       [0.4538954 ],\n",
       "       [0.1936608 ],\n",
       "       [0.70243055],\n",
       "       [0.7141279 ],\n",
       "       [0.19180581],\n",
       "       [0.45644078],\n",
       "       [0.07847792],\n",
       "       [0.5054323 ],\n",
       "       [0.5854096 ],\n",
       "       [0.50715625],\n",
       "       [0.30962646],\n",
       "       [0.63072693],\n",
       "       [0.7072971 ],\n",
       "       [0.49437892],\n",
       "       [0.15733767],\n",
       "       [0.54135495],\n",
       "       [0.41421908],\n",
       "       [0.6709182 ],\n",
       "       [0.4547679 ],\n",
       "       [0.4976879 ],\n",
       "       [0.2016365 ],\n",
       "       [0.7668631 ],\n",
       "       [0.763203  ],\n",
       "       [0.93351126],\n",
       "       [0.6759492 ],\n",
       "       [0.30361474],\n",
       "       [0.75983346],\n",
       "       [0.46206218],\n",
       "       [0.73499435],\n",
       "       [0.08201689],\n",
       "       [0.65432996],\n",
       "       [0.22817722],\n",
       "       [0.45407036],\n",
       "       [0.23007289],\n",
       "       [0.12127757],\n",
       "       [0.69362426],\n",
       "       [0.08156851],\n",
       "       [0.4914222 ],\n",
       "       [0.31599683],\n",
       "       [0.6752203 ],\n",
       "       [0.72544026],\n",
       "       [0.3284198 ],\n",
       "       [0.6270564 ],\n",
       "       [0.51575553],\n",
       "       [0.21055868],\n",
       "       [0.16743481],\n",
       "       [0.17181143],\n",
       "       [0.45814115],\n",
       "       [0.39610824],\n",
       "       [0.49760717],\n",
       "       [0.5709264 ],\n",
       "       [0.34116542],\n",
       "       [0.8292955 ],\n",
       "       [0.9036082 ],\n",
       "       [0.0969193 ],\n",
       "       [0.5776025 ],\n",
       "       [0.62028867],\n",
       "       [0.71398157],\n",
       "       [0.8542731 ],\n",
       "       [0.29725417],\n",
       "       [0.7253907 ],\n",
       "       [0.26532644],\n",
       "       [0.5536225 ],\n",
       "       [0.21196434],\n",
       "       [0.6951307 ],\n",
       "       [0.5664772 ],\n",
       "       [0.4603445 ],\n",
       "       [0.28726962],\n",
       "       [0.11516917],\n",
       "       [0.49875808],\n",
       "       [0.5044039 ],\n",
       "       [0.7773775 ],\n",
       "       [0.74707603],\n",
       "       [0.36890373],\n",
       "       [0.49446073],\n",
       "       [0.22716627],\n",
       "       [0.09777308],\n",
       "       [0.7317988 ],\n",
       "       [0.20421588],\n",
       "       [0.7031486 ],\n",
       "       [0.6207368 ],\n",
       "       [0.7624762 ],\n",
       "       [0.47882047],\n",
       "       [0.6842636 ],\n",
       "       [0.3873223 ],\n",
       "       [0.04553366],\n",
       "       [0.60489756],\n",
       "       [0.8570592 ],\n",
       "       [0.48673794],\n",
       "       [0.8106961 ],\n",
       "       [0.37660858],\n",
       "       [0.64565164],\n",
       "       [0.5642833 ],\n",
       "       [0.7332582 ],\n",
       "       [0.701992  ],\n",
       "       [0.6579169 ],\n",
       "       [0.7524365 ],\n",
       "       [0.62807775],\n",
       "       [0.4983634 ],\n",
       "       [0.5407661 ],\n",
       "       [0.57307017],\n",
       "       [0.632323  ],\n",
       "       [0.80352664],\n",
       "       [0.23323116],\n",
       "       [0.36703637],\n",
       "       [0.45583197],\n",
       "       [0.47538814],\n",
       "       [0.27894428],\n",
       "       [0.4616541 ],\n",
       "       [0.54149455],\n",
       "       [0.56978315],\n",
       "       [0.2782325 ],\n",
       "       [0.56940883],\n",
       "       [0.40431547],\n",
       "       [0.57336724],\n",
       "       [0.31713635],\n",
       "       [0.2045326 ],\n",
       "       [0.68098354],\n",
       "       [0.45044816],\n",
       "       [0.5033662 ],\n",
       "       [0.703087  ],\n",
       "       [0.59800684],\n",
       "       [0.76960707],\n",
       "       [0.75015783],\n",
       "       [0.82402086],\n",
       "       [0.18125096],\n",
       "       [0.5812661 ],\n",
       "       [0.6646082 ],\n",
       "       [0.9039686 ],\n",
       "       [0.3981225 ],\n",
       "       [0.6839952 ],\n",
       "       [0.55292124],\n",
       "       [0.55541855],\n",
       "       [0.3924542 ],\n",
       "       [0.47036302],\n",
       "       [0.5610447 ],\n",
       "       [0.87953776],\n",
       "       [0.6846196 ],\n",
       "       [0.6721703 ],\n",
       "       [0.7450907 ],\n",
       "       [0.19394997],\n",
       "       [0.8914218 ],\n",
       "       [0.6699014 ],\n",
       "       [0.75700593],\n",
       "       [0.7603098 ],\n",
       "       [0.50923103],\n",
       "       [0.48052335],\n",
       "       [0.38895077],\n",
       "       [0.21737665],\n",
       "       [0.4433952 ],\n",
       "       [0.60194147],\n",
       "       [0.67938817],\n",
       "       [0.649787  ],\n",
       "       [0.7842203 ],\n",
       "       [0.68828785],\n",
       "       [0.23313236],\n",
       "       [0.7419991 ],\n",
       "       [0.18966517],\n",
       "       [0.17814255],\n",
       "       [0.49228576],\n",
       "       [0.3270796 ],\n",
       "       [0.09029394],\n",
       "       [0.35159963],\n",
       "       [0.57128876],\n",
       "       [0.42018086],\n",
       "       [0.44265595],\n",
       "       [0.5896749 ],\n",
       "       [0.70300716],\n",
       "       [0.8518633 ],\n",
       "       [0.5442416 ],\n",
       "       [0.45652568],\n",
       "       [0.58114994],\n",
       "       [0.6686795 ],\n",
       "       [0.21926257],\n",
       "       [0.23737732],\n",
       "       [0.61932683],\n",
       "       [0.35651064],\n",
       "       [0.54366994],\n",
       "       [0.73067427],\n",
       "       [0.54624957],\n",
       "       [0.2732216 ],\n",
       "       [0.30462837],\n",
       "       [0.23217663],\n",
       "       [0.58986664],\n",
       "       [0.6339893 ],\n",
       "       [0.5575032 ],\n",
       "       [0.48436597],\n",
       "       [0.65082574],\n",
       "       [0.7313684 ],\n",
       "       [0.3875975 ],\n",
       "       [0.58218604],\n",
       "       [0.77805686],\n",
       "       [0.5511098 ],\n",
       "       [0.54792947],\n",
       "       [0.79297787],\n",
       "       [0.49982136],\n",
       "       [0.41581696],\n",
       "       [0.08156851],\n",
       "       [0.8892545 ],\n",
       "       [0.8326777 ],\n",
       "       [0.35221827],\n",
       "       [0.5858583 ],\n",
       "       [0.51876795],\n",
       "       [0.2757455 ],\n",
       "       [0.5082788 ],\n",
       "       [0.57371134],\n",
       "       [0.80426764],\n",
       "       [0.62898046],\n",
       "       [0.7607839 ],\n",
       "       [0.48290592],\n",
       "       [0.10152686],\n",
       "       [0.6215803 ],\n",
       "       [0.5945593 ],\n",
       "       [0.05579275],\n",
       "       [0.69555557],\n",
       "       [0.4989794 ],\n",
       "       [0.8338292 ],\n",
       "       [0.3792027 ],\n",
       "       [0.9244951 ],\n",
       "       [0.4575561 ],\n",
       "       [0.33837274],\n",
       "       [0.2791322 ],\n",
       "       [0.53822285],\n",
       "       [0.48408583],\n",
       "       [0.32499462],\n",
       "       [0.6400454 ],\n",
       "       [0.41761795],\n",
       "       [0.07170573],\n",
       "       [0.7876841 ],\n",
       "       [0.77597743],\n",
       "       [0.58264863],\n",
       "       [0.6247154 ],\n",
       "       [0.8165678 ],\n",
       "       [0.40132064],\n",
       "       [0.7110714 ],\n",
       "       [0.6679874 ],\n",
       "       [0.247221  ],\n",
       "       [0.5862752 ],\n",
       "       [0.67892975],\n",
       "       [0.67957515],\n",
       "       [0.80495924],\n",
       "       [0.70470756],\n",
       "       [0.71700895],\n",
       "       [0.4845254 ],\n",
       "       [0.6409274 ],\n",
       "       [0.79275227],\n",
       "       [0.562062  ],\n",
       "       [0.68161327],\n",
       "       [0.5768465 ],\n",
       "       [0.61003035],\n",
       "       [0.8098244 ],\n",
       "       [0.16813236],\n",
       "       [0.33239293],\n",
       "       [0.7758659 ],\n",
       "       [0.37150514],\n",
       "       [0.2352317 ],\n",
       "       [0.59225726],\n",
       "       [0.33452052],\n",
       "       [0.67320526],\n",
       "       [0.43983063],\n",
       "       [0.4423437 ],\n",
       "       [0.814057  ],\n",
       "       [0.31335983],\n",
       "       [0.6067286 ],\n",
       "       [0.6729109 ],\n",
       "       [0.68647975],\n",
       "       [0.12179744],\n",
       "       [0.5943521 ],\n",
       "       [0.2573963 ],\n",
       "       [0.48132834],\n",
       "       [0.52125967],\n",
       "       [0.7132324 ],\n",
       "       [0.78441864],\n",
       "       [0.78956974],\n",
       "       [0.5629037 ],\n",
       "       [0.8408501 ],\n",
       "       [0.78653884],\n",
       "       [0.7961101 ],\n",
       "       [0.7491512 ],\n",
       "       [0.6126045 ],\n",
       "       [0.63292617],\n",
       "       [0.4066109 ],\n",
       "       [0.49684358],\n",
       "       [0.55578685],\n",
       "       [0.6880758 ],\n",
       "       [0.71928483],\n",
       "       [0.47948155],\n",
       "       [0.31042662],\n",
       "       [0.29801464],\n",
       "       [0.36839378],\n",
       "       [0.8006413 ],\n",
       "       [0.5784636 ],\n",
       "       [0.69646925],\n",
       "       [0.62562996],\n",
       "       [0.61925226],\n",
       "       [0.6603036 ],\n",
       "       [0.93816096],\n",
       "       [0.5094436 ],\n",
       "       [0.16913113],\n",
       "       [0.49497217],\n",
       "       [0.49179983],\n",
       "       [0.64320385],\n",
       "       [0.42387405],\n",
       "       [0.61826026],\n",
       "       [0.7901485 ],\n",
       "       [0.14811292],\n",
       "       [0.7046431 ],\n",
       "       [0.6260593 ],\n",
       "       [0.4135914 ],\n",
       "       [0.34916115],\n",
       "       [0.7729217 ],\n",
       "       [0.41217464],\n",
       "       [0.37875563],\n",
       "       [0.21350458],\n",
       "       [0.5429076 ],\n",
       "       [0.04553801],\n",
       "       [0.8988802 ],\n",
       "       [0.5345671 ],\n",
       "       [0.7535025 ],\n",
       "       [0.5454933 ],\n",
       "       [0.60963434],\n",
       "       [0.31678224],\n",
       "       [0.27011216],\n",
       "       [0.39775398],\n",
       "       [0.6575238 ],\n",
       "       [0.56747025],\n",
       "       [0.26478624],\n",
       "       [0.6041712 ],\n",
       "       [0.7766353 ],\n",
       "       [0.7926296 ],\n",
       "       [0.17583007],\n",
       "       [0.4866681 ],\n",
       "       [0.41662714],\n",
       "       [0.39925548],\n",
       "       [0.820565  ],\n",
       "       [0.3161543 ],\n",
       "       [0.66440433],\n",
       "       [0.62113744],\n",
       "       [0.7825198 ],\n",
       "       [0.2888083 ],\n",
       "       [0.43252638],\n",
       "       [0.64664435],\n",
       "       [0.19967607],\n",
       "       [0.22322965],\n",
       "       [0.6605586 ],\n",
       "       [0.6894694 ],\n",
       "       [0.11085612],\n",
       "       [0.75954914],\n",
       "       [0.78964484],\n",
       "       [0.6256038 ],\n",
       "       [0.5899594 ],\n",
       "       [0.03112045],\n",
       "       [0.45901605],\n",
       "       [0.58304226],\n",
       "       [0.53046465],\n",
       "       [0.32250965],\n",
       "       [0.56561315],\n",
       "       [0.31451565],\n",
       "       [0.7839395 ],\n",
       "       [0.7225248 ],\n",
       "       [0.27337787],\n",
       "       [0.32513392],\n",
       "       [0.6630347 ],\n",
       "       [0.67222106],\n",
       "       [0.636371  ],\n",
       "       [0.60320383],\n",
       "       [0.5035429 ],\n",
       "       [0.72077715],\n",
       "       [0.39798105],\n",
       "       [0.5033962 ],\n",
       "       [0.5481341 ],\n",
       "       [0.712966  ],\n",
       "       [0.6449194 ],\n",
       "       [0.6550587 ],\n",
       "       [0.3639046 ],\n",
       "       [0.7081694 ],\n",
       "       [0.704745  ],\n",
       "       [0.7112992 ],\n",
       "       [0.762887  ],\n",
       "       [0.9426912 ],\n",
       "       [0.6964927 ],\n",
       "       [0.59901303],\n",
       "       [0.6285356 ],\n",
       "       [0.8834878 ],\n",
       "       [0.94937634],\n",
       "       [0.7886888 ],\n",
       "       [0.6006609 ],\n",
       "       [0.28305888],\n",
       "       [0.19600487],\n",
       "       [0.73815334],\n",
       "       [0.26494795],\n",
       "       [0.7379769 ],\n",
       "       [0.67806774],\n",
       "       [0.45545316],\n",
       "       [0.21261886],\n",
       "       [0.75207067],\n",
       "       [0.49440542],\n",
       "       [0.30917025],\n",
       "       [0.90033   ],\n",
       "       [0.41632608],\n",
       "       [0.23143223],\n",
       "       [0.75163645],\n",
       "       [0.7073848 ],\n",
       "       [0.272722  ],\n",
       "       [0.9592019 ],\n",
       "       [0.8414327 ],\n",
       "       [0.41423434],\n",
       "       [0.5916829 ],\n",
       "       [0.6847012 ],\n",
       "       [0.60441375],\n",
       "       [0.2520662 ],\n",
       "       [0.66655576],\n",
       "       [0.84686875],\n",
       "       [0.7386581 ],\n",
       "       [0.43014148],\n",
       "       [0.6492703 ],\n",
       "       [0.4213004 ],\n",
       "       [0.473577  ],\n",
       "       [0.6468244 ],\n",
       "       [0.37566438],\n",
       "       [0.4663065 ],\n",
       "       [0.27208525],\n",
       "       [0.24066496],\n",
       "       [0.40318322],\n",
       "       [0.96023107],\n",
       "       [0.5310918 ],\n",
       "       [0.26678404],\n",
       "       [0.71359855],\n",
       "       [0.26962715],\n",
       "       [0.05308515],\n",
       "       [0.5797607 ],\n",
       "       [0.79461014],\n",
       "       [0.52879125],\n",
       "       [0.52433956],\n",
       "       [0.57023126],\n",
       "       [0.33459225],\n",
       "       [0.7192662 ],\n",
       "       [0.5289295 ],\n",
       "       [0.7432859 ],\n",
       "       [0.60471123],\n",
       "       [0.60942507],\n",
       "       [0.07832229],\n",
       "       [0.11015332],\n",
       "       [0.48037392],\n",
       "       [0.8552822 ],\n",
       "       [0.19602326],\n",
       "       [0.7428124 ],\n",
       "       [0.58305377],\n",
       "       [0.41503605],\n",
       "       [0.24272272],\n",
       "       [0.09889451],\n",
       "       [0.62435085],\n",
       "       [0.41617262],\n",
       "       [0.59692264],\n",
       "       [0.7099919 ],\n",
       "       [0.589918  ],\n",
       "       [0.3530951 ],\n",
       "       [0.6666086 ],\n",
       "       [0.65614116],\n",
       "       [0.21635285],\n",
       "       [0.6554645 ],\n",
       "       [0.67446244],\n",
       "       [0.7064402 ],\n",
       "       [0.67493373],\n",
       "       [0.8198174 ],\n",
       "       [0.78308374],\n",
       "       [0.80310744],\n",
       "       [0.9100531 ],\n",
       "       [0.32622293],\n",
       "       [0.57506746],\n",
       "       [0.7375393 ],\n",
       "       [0.18662   ],\n",
       "       [0.80606556],\n",
       "       [0.84451103],\n",
       "       [0.66275287],\n",
       "       [0.42727768],\n",
       "       [0.7092717 ],\n",
       "       [0.5499497 ],\n",
       "       [0.02931952],\n",
       "       [0.28974825],\n",
       "       [0.24167651],\n",
       "       [0.4290188 ]], dtype=float32)"
      ]
     },
     "execution_count": 155,
     "metadata": {},
     "output_type": "execute_result"
    }
   ],
   "source": [
    "yhat"
   ]
  },
  {
   "cell_type": "code",
   "execution_count": 156,
   "id": "06ceba64",
   "metadata": {
    "collapsed": true
   },
   "outputs": [
    {
     "data": {
      "text/plain": [
       "array([1, 1, 1, 1, 1, 1, 0, 0, 0, 1, 0, 0, 1, 1, 1, 0, 0, 0, 0, 0, 1, 0,\n",
       "       0, 1, 0, 0, 1, 1, 1, 1, 1, 0, 0, 1, 0, 0, 1, 1, 0, 1, 0, 0, 0, 0,\n",
       "       1, 1, 0, 1, 0, 1, 1, 0, 0, 0, 1, 0, 1, 1, 1, 1, 1, 1, 0, 0, 1, 1,\n",
       "       0, 0, 0, 0, 0, 1, 1, 0, 1, 0, 1, 0, 1, 0, 0, 0, 1, 0, 1, 1, 0, 0,\n",
       "       1, 1, 0, 0, 0, 0, 0, 0, 1, 1, 1, 0, 1, 0, 1, 0, 0, 0, 0, 1, 0, 1,\n",
       "       0, 0, 1, 1, 1, 1, 1, 1, 1, 1, 1, 1, 0, 1, 1, 1, 0, 1, 1, 0, 1, 1,\n",
       "       1, 1, 1, 0, 0, 0, 0, 1, 0, 1, 1, 1, 1, 0, 1, 1, 1, 1, 0, 1, 0, 1,\n",
       "       1, 1, 0, 0, 0, 1, 0, 0, 0, 0, 1, 1, 0, 1, 1, 1, 1, 1, 1, 1, 0, 0,\n",
       "       1, 0, 1, 1, 1, 1, 1, 1, 0, 1, 0, 0, 0, 1, 1, 1, 0, 0, 1, 1, 1, 0,\n",
       "       1, 1, 1, 1, 1, 0, 1, 0, 0, 0, 1, 0, 1, 0, 1, 0, 0, 1, 1, 0, 0, 0,\n",
       "       1, 0, 1, 0, 1, 0, 0, 0, 1, 1, 1, 0, 0, 1, 1, 0, 1, 1, 0, 0, 1, 1,\n",
       "       0, 1, 1, 1, 0, 1, 0, 0, 1, 0, 1, 1, 0, 0, 1, 0, 1, 0, 0, 1, 0, 1,\n",
       "       1, 0, 0, 0, 1, 1, 0, 1, 1, 0, 1, 0, 0, 1, 1, 1, 0, 0, 0, 0, 0, 0,\n",
       "       1, 0, 0, 1, 1, 1, 1, 1, 0, 0, 1, 1, 0, 1, 0, 0, 0, 0, 1, 0, 0, 0,\n",
       "       1, 0, 1, 1, 1, 0, 1, 0, 0, 0, 0, 1, 1, 1, 1, 0, 0, 1, 0, 1, 0, 1,\n",
       "       0, 1, 0, 1, 1, 0, 0, 0, 1, 0, 1, 1, 1, 0, 0, 0, 1, 0, 1, 0, 1, 1,\n",
       "       1, 0, 0, 1, 1, 0, 1, 0, 1, 0, 0, 1, 1, 1, 1, 1, 0, 0, 1, 1, 0, 0,\n",
       "       1, 0, 0, 0, 0, 0, 1, 1, 0, 0, 0, 0, 1, 1, 0, 1, 0, 1, 1, 1, 0, 1,\n",
       "       1, 1, 0, 1, 1, 0, 0, 1, 1, 1, 1, 0, 1, 0, 1, 1, 1, 1, 1, 1, 1, 0,\n",
       "       1, 1, 0, 1, 1, 1, 1, 0, 0, 0, 1, 0, 0, 0, 0, 0, 1, 0, 1, 0, 0, 0,\n",
       "       1, 1, 0, 0, 1, 0, 1, 1, 0, 0, 0, 0, 1, 0, 1, 1, 0, 1, 0, 1, 1, 1,\n",
       "       1, 1, 1, 0, 0, 1, 1, 0, 0, 1, 1, 1, 0, 1, 0, 0, 1, 0, 0, 0, 0, 1,\n",
       "       1, 0, 0, 1, 1, 0, 0, 0, 1, 0, 1, 0, 0, 1, 1, 1, 1, 1, 0, 1, 1, 0,\n",
       "       1, 0, 1, 1, 1, 0, 1, 1, 1, 0, 1, 1, 1, 1, 0, 0, 1, 0, 0, 0, 0, 1,\n",
       "       1, 1, 1, 0, 0, 1, 1, 0, 1, 1, 0, 0, 1, 1, 1, 1, 1, 1, 1, 1, 1, 1,\n",
       "       0, 1, 1, 1, 0, 0, 0, 1, 0, 1, 1, 0, 1, 0, 1, 1, 0, 0, 1, 0, 1, 1,\n",
       "       1, 1, 0, 1, 1, 0, 1, 1, 0, 0, 0, 1, 0, 1, 1, 1, 1, 1, 0, 1, 0, 1,\n",
       "       0, 0, 0, 1, 1, 0, 1, 1, 1, 1, 1, 1, 0, 1, 1, 0, 0, 0, 0, 1, 0, 0,\n",
       "       0, 1, 0, 1, 0, 1, 1, 0, 0, 1, 1, 1, 1, 0, 0, 0, 1, 0, 0, 0, 1, 0,\n",
       "       0, 0, 1, 1, 1, 0, 1, 0, 1, 1, 1, 1, 1, 0, 1, 1, 1, 0, 0, 0, 1, 0,\n",
       "       0, 1, 1, 0, 1, 0, 1, 1, 0, 0, 1, 1, 0, 1, 1, 0, 1, 1, 1, 0, 1, 1,\n",
       "       0, 1, 1, 1, 1, 1, 1, 0, 0, 0, 0, 1, 0, 0, 0, 0, 0, 0, 1, 0, 1, 1,\n",
       "       1, 0, 1, 1, 1, 1, 0, 0, 0, 1, 0, 1, 0, 0, 1, 0, 1, 0, 0, 1, 0, 0,\n",
       "       0, 1, 0, 1, 0, 1, 1, 1, 1, 1, 1, 1, 0, 1, 0, 1, 1, 1, 1, 1, 1, 1,\n",
       "       0, 0, 0], dtype=int32)"
      ]
     },
     "execution_count": 156,
     "metadata": {},
     "output_type": "execute_result"
    }
   ],
   "source": [
    "y"
   ]
  },
  {
   "cell_type": "code",
   "execution_count": 157,
   "id": "2074104a",
   "metadata": {},
   "outputs": [
    {
     "data": {
      "text/plain": [
       "(751,)"
      ]
     },
     "execution_count": 157,
     "metadata": {},
     "output_type": "execute_result"
    }
   ],
   "source": [
    "y.shape"
   ]
  },
  {
   "cell_type": "code",
   "execution_count": 159,
   "id": "299ce962",
   "metadata": {
    "collapsed": true
   },
   "outputs": [
    {
     "data": {
      "text/plain": [
       "array([[0],\n",
       "       [0],\n",
       "       [0],\n",
       "       [1],\n",
       "       [1],\n",
       "       [0],\n",
       "       [1],\n",
       "       [1],\n",
       "       [1],\n",
       "       [1],\n",
       "       [1],\n",
       "       [0],\n",
       "       [1],\n",
       "       [0],\n",
       "       [1],\n",
       "       [1],\n",
       "       [1],\n",
       "       [0],\n",
       "       [1],\n",
       "       [0],\n",
       "       [0],\n",
       "       [0],\n",
       "       [0],\n",
       "       [1],\n",
       "       [0],\n",
       "       [0],\n",
       "       [1],\n",
       "       [0],\n",
       "       [1],\n",
       "       [1],\n",
       "       [1],\n",
       "       [0],\n",
       "       [1],\n",
       "       [1],\n",
       "       [0],\n",
       "       [1],\n",
       "       [1],\n",
       "       [0],\n",
       "       [0],\n",
       "       [1],\n",
       "       [1],\n",
       "       [1],\n",
       "       [0],\n",
       "       [0],\n",
       "       [1],\n",
       "       [1],\n",
       "       [0],\n",
       "       [1],\n",
       "       [1],\n",
       "       [1],\n",
       "       [1],\n",
       "       [0],\n",
       "       [1],\n",
       "       [0],\n",
       "       [1],\n",
       "       [1],\n",
       "       [1],\n",
       "       [1],\n",
       "       [0],\n",
       "       [1],\n",
       "       [1],\n",
       "       [1],\n",
       "       [0],\n",
       "       [0],\n",
       "       [1],\n",
       "       [1],\n",
       "       [0],\n",
       "       [0],\n",
       "       [0],\n",
       "       [0],\n",
       "       [1],\n",
       "       [1],\n",
       "       [0],\n",
       "       [0],\n",
       "       [1],\n",
       "       [0],\n",
       "       [1],\n",
       "       [0],\n",
       "       [1],\n",
       "       [0],\n",
       "       [0],\n",
       "       [0],\n",
       "       [0],\n",
       "       [0],\n",
       "       [0],\n",
       "       [1],\n",
       "       [0],\n",
       "       [0],\n",
       "       [0],\n",
       "       [1],\n",
       "       [0],\n",
       "       [1],\n",
       "       [0],\n",
       "       [0],\n",
       "       [0],\n",
       "       [0],\n",
       "       [1],\n",
       "       [1],\n",
       "       [1],\n",
       "       [0],\n",
       "       [1],\n",
       "       [0],\n",
       "       [1],\n",
       "       [0],\n",
       "       [0],\n",
       "       [0],\n",
       "       [0],\n",
       "       [1],\n",
       "       [0],\n",
       "       [0],\n",
       "       [0],\n",
       "       [1],\n",
       "       [1],\n",
       "       [1],\n",
       "       [1],\n",
       "       [1],\n",
       "       [1],\n",
       "       [1],\n",
       "       [1],\n",
       "       [1],\n",
       "       [1],\n",
       "       [0],\n",
       "       [0],\n",
       "       [1],\n",
       "       [1],\n",
       "       [1],\n",
       "       [0],\n",
       "       [0],\n",
       "       [1],\n",
       "       [1],\n",
       "       [1],\n",
       "       [1],\n",
       "       [1],\n",
       "       [1],\n",
       "       [0],\n",
       "       [1],\n",
       "       [0],\n",
       "       [0],\n",
       "       [0],\n",
       "       [1],\n",
       "       [0],\n",
       "       [1],\n",
       "       [1],\n",
       "       [0],\n",
       "       [1],\n",
       "       [0],\n",
       "       [0],\n",
       "       [0],\n",
       "       [1],\n",
       "       [1],\n",
       "       [0],\n",
       "       [1],\n",
       "       [0],\n",
       "       [1],\n",
       "       [1],\n",
       "       [1],\n",
       "       [1],\n",
       "       [1],\n",
       "       [0],\n",
       "       [1],\n",
       "       [0],\n",
       "       [0],\n",
       "       [0],\n",
       "       [0],\n",
       "       [1],\n",
       "       [1],\n",
       "       [0],\n",
       "       [0],\n",
       "       [1],\n",
       "       [1],\n",
       "       [1],\n",
       "       [1],\n",
       "       [1],\n",
       "       [1],\n",
       "       [0],\n",
       "       [0],\n",
       "       [1],\n",
       "       [1],\n",
       "       [1],\n",
       "       [1],\n",
       "       [1],\n",
       "       [1],\n",
       "       [1],\n",
       "       [1],\n",
       "       [0],\n",
       "       [1],\n",
       "       [0],\n",
       "       [0],\n",
       "       [0],\n",
       "       [1],\n",
       "       [1],\n",
       "       [1],\n",
       "       [1],\n",
       "       [0],\n",
       "       [0],\n",
       "       [1],\n",
       "       [0],\n",
       "       [0],\n",
       "       [1],\n",
       "       [1],\n",
       "       [1],\n",
       "       [0],\n",
       "       [1],\n",
       "       [0],\n",
       "       [1],\n",
       "       [0],\n",
       "       [0],\n",
       "       [0],\n",
       "       [1],\n",
       "       [1],\n",
       "       [1],\n",
       "       [0],\n",
       "       [1],\n",
       "       [1],\n",
       "       [0],\n",
       "       [1],\n",
       "       [1],\n",
       "       [0],\n",
       "       [0],\n",
       "       [0],\n",
       "       [1],\n",
       "       [0],\n",
       "       [1],\n",
       "       [1],\n",
       "       [1],\n",
       "       [0],\n",
       "       [0],\n",
       "       [0],\n",
       "       [1],\n",
       "       [1],\n",
       "       [1],\n",
       "       [1],\n",
       "       [0],\n",
       "       [1],\n",
       "       [1],\n",
       "       [0],\n",
       "       [1],\n",
       "       [0],\n",
       "       [0],\n",
       "       [0],\n",
       "       [1],\n",
       "       [1],\n",
       "       [0],\n",
       "       [1],\n",
       "       [0],\n",
       "       [1],\n",
       "       [0],\n",
       "       [1],\n",
       "       [0],\n",
       "       [0],\n",
       "       [1],\n",
       "       [1],\n",
       "       [0],\n",
       "       [1],\n",
       "       [0],\n",
       "       [0],\n",
       "       [1],\n",
       "       [0],\n",
       "       [1],\n",
       "       [0],\n",
       "       [0],\n",
       "       [1],\n",
       "       [0],\n",
       "       [1],\n",
       "       [1],\n",
       "       [1],\n",
       "       [1],\n",
       "       [1],\n",
       "       [0],\n",
       "       [0],\n",
       "       [0],\n",
       "       [1],\n",
       "       [1],\n",
       "       [0],\n",
       "       [0],\n",
       "       [0],\n",
       "       [1],\n",
       "       [1],\n",
       "       [1],\n",
       "       [0],\n",
       "       [1],\n",
       "       [1],\n",
       "       [0],\n",
       "       [0],\n",
       "       [1],\n",
       "       [0],\n",
       "       [1],\n",
       "       [0],\n",
       "       [0],\n",
       "       [0],\n",
       "       [1],\n",
       "       [1],\n",
       "       [1],\n",
       "       [1],\n",
       "       [0],\n",
       "       [1],\n",
       "       [0],\n",
       "       [1],\n",
       "       [0],\n",
       "       [1],\n",
       "       [0],\n",
       "       [0],\n",
       "       [0],\n",
       "       [0],\n",
       "       [1],\n",
       "       [0],\n",
       "       [0],\n",
       "       [0],\n",
       "       [1],\n",
       "       [1],\n",
       "       [0],\n",
       "       [1],\n",
       "       [1],\n",
       "       [0],\n",
       "       [0],\n",
       "       [0],\n",
       "       [0],\n",
       "       [0],\n",
       "       [0],\n",
       "       [1],\n",
       "       [0],\n",
       "       [1],\n",
       "       [1],\n",
       "       [0],\n",
       "       [1],\n",
       "       [1],\n",
       "       [1],\n",
       "       [1],\n",
       "       [0],\n",
       "       [1],\n",
       "       [0],\n",
       "       [1],\n",
       "       [0],\n",
       "       [1],\n",
       "       [1],\n",
       "       [0],\n",
       "       [0],\n",
       "       [0],\n",
       "       [0],\n",
       "       [1],\n",
       "       [1],\n",
       "       [1],\n",
       "       [0],\n",
       "       [0],\n",
       "       [0],\n",
       "       [0],\n",
       "       [1],\n",
       "       [0],\n",
       "       [1],\n",
       "       [1],\n",
       "       [1],\n",
       "       [0],\n",
       "       [1],\n",
       "       [0],\n",
       "       [0],\n",
       "       [1],\n",
       "       [1],\n",
       "       [0],\n",
       "       [1],\n",
       "       [0],\n",
       "       [1],\n",
       "       [1],\n",
       "       [1],\n",
       "       [1],\n",
       "       [1],\n",
       "       [1],\n",
       "       [1],\n",
       "       [0],\n",
       "       [1],\n",
       "       [1],\n",
       "       [1],\n",
       "       [1],\n",
       "       [0],\n",
       "       [0],\n",
       "       [0],\n",
       "       [0],\n",
       "       [0],\n",
       "       [0],\n",
       "       [1],\n",
       "       [1],\n",
       "       [0],\n",
       "       [1],\n",
       "       [0],\n",
       "       [1],\n",
       "       [0],\n",
       "       [0],\n",
       "       [1],\n",
       "       [0],\n",
       "       [1],\n",
       "       [1],\n",
       "       [1],\n",
       "       [1],\n",
       "       [1],\n",
       "       [1],\n",
       "       [0],\n",
       "       [1],\n",
       "       [1],\n",
       "       [1],\n",
       "       [0],\n",
       "       [1],\n",
       "       [1],\n",
       "       [1],\n",
       "       [0],\n",
       "       [0],\n",
       "       [1],\n",
       "       [1],\n",
       "       [1],\n",
       "       [1],\n",
       "       [1],\n",
       "       [0],\n",
       "       [1],\n",
       "       [1],\n",
       "       [1],\n",
       "       [1],\n",
       "       [1],\n",
       "       [0],\n",
       "       [0],\n",
       "       [0],\n",
       "       [0],\n",
       "       [1],\n",
       "       [1],\n",
       "       [1],\n",
       "       [1],\n",
       "       [1],\n",
       "       [0],\n",
       "       [1],\n",
       "       [0],\n",
       "       [0],\n",
       "       [0],\n",
       "       [0],\n",
       "       [0],\n",
       "       [0],\n",
       "       [1],\n",
       "       [0],\n",
       "       [0],\n",
       "       [1],\n",
       "       [1],\n",
       "       [1],\n",
       "       [1],\n",
       "       [0],\n",
       "       [1],\n",
       "       [1],\n",
       "       [0],\n",
       "       [0],\n",
       "       [1],\n",
       "       [0],\n",
       "       [1],\n",
       "       [1],\n",
       "       [1],\n",
       "       [0],\n",
       "       [0],\n",
       "       [0],\n",
       "       [1],\n",
       "       [1],\n",
       "       [1],\n",
       "       [0],\n",
       "       [1],\n",
       "       [1],\n",
       "       [0],\n",
       "       [1],\n",
       "       [1],\n",
       "       [1],\n",
       "       [1],\n",
       "       [1],\n",
       "       [0],\n",
       "       [0],\n",
       "       [0],\n",
       "       [1],\n",
       "       [1],\n",
       "       [0],\n",
       "       [1],\n",
       "       [1],\n",
       "       [0],\n",
       "       [1],\n",
       "       [1],\n",
       "       [1],\n",
       "       [1],\n",
       "       [1],\n",
       "       [0],\n",
       "       [0],\n",
       "       [1],\n",
       "       [1],\n",
       "       [0],\n",
       "       [1],\n",
       "       [0],\n",
       "       [1],\n",
       "       [0],\n",
       "       [1],\n",
       "       [0],\n",
       "       [0],\n",
       "       [0],\n",
       "       [1],\n",
       "       [0],\n",
       "       [0],\n",
       "       [1],\n",
       "       [0],\n",
       "       [0],\n",
       "       [1],\n",
       "       [1],\n",
       "       [1],\n",
       "       [1],\n",
       "       [1],\n",
       "       [0],\n",
       "       [1],\n",
       "       [1],\n",
       "       [0],\n",
       "       [1],\n",
       "       [1],\n",
       "       [1],\n",
       "       [1],\n",
       "       [1],\n",
       "       [1],\n",
       "       [0],\n",
       "       [1],\n",
       "       [1],\n",
       "       [1],\n",
       "       [1],\n",
       "       [1],\n",
       "       [1],\n",
       "       [1],\n",
       "       [0],\n",
       "       [0],\n",
       "       [1],\n",
       "       [0],\n",
       "       [0],\n",
       "       [1],\n",
       "       [0],\n",
       "       [1],\n",
       "       [0],\n",
       "       [0],\n",
       "       [1],\n",
       "       [0],\n",
       "       [1],\n",
       "       [1],\n",
       "       [1],\n",
       "       [0],\n",
       "       [1],\n",
       "       [0],\n",
       "       [0],\n",
       "       [1],\n",
       "       [1],\n",
       "       [1],\n",
       "       [1],\n",
       "       [1],\n",
       "       [1],\n",
       "       [1],\n",
       "       [1],\n",
       "       [1],\n",
       "       [1],\n",
       "       [1],\n",
       "       [0],\n",
       "       [0],\n",
       "       [1],\n",
       "       [1],\n",
       "       [1],\n",
       "       [0],\n",
       "       [0],\n",
       "       [0],\n",
       "       [0],\n",
       "       [1],\n",
       "       [1],\n",
       "       [1],\n",
       "       [1],\n",
       "       [1],\n",
       "       [1],\n",
       "       [1],\n",
       "       [1],\n",
       "       [0],\n",
       "       [0],\n",
       "       [0],\n",
       "       [1],\n",
       "       [0],\n",
       "       [1],\n",
       "       [1],\n",
       "       [0],\n",
       "       [1],\n",
       "       [1],\n",
       "       [0],\n",
       "       [0],\n",
       "       [1],\n",
       "       [0],\n",
       "       [0],\n",
       "       [0],\n",
       "       [1],\n",
       "       [0],\n",
       "       [1],\n",
       "       [1],\n",
       "       [1],\n",
       "       [1],\n",
       "       [1],\n",
       "       [0],\n",
       "       [0],\n",
       "       [0],\n",
       "       [1],\n",
       "       [1],\n",
       "       [0],\n",
       "       [1],\n",
       "       [1],\n",
       "       [1],\n",
       "       [0],\n",
       "       [0],\n",
       "       [0],\n",
       "       [0],\n",
       "       [1],\n",
       "       [0],\n",
       "       [1],\n",
       "       [1],\n",
       "       [1],\n",
       "       [0],\n",
       "       [0],\n",
       "       [1],\n",
       "       [0],\n",
       "       [0],\n",
       "       [1],\n",
       "       [1],\n",
       "       [0],\n",
       "       [1],\n",
       "       [1],\n",
       "       [1],\n",
       "       [1],\n",
       "       [0],\n",
       "       [0],\n",
       "       [1],\n",
       "       [1],\n",
       "       [0],\n",
       "       [1],\n",
       "       [0],\n",
       "       [1],\n",
       "       [1],\n",
       "       [0],\n",
       "       [0],\n",
       "       [1],\n",
       "       [1],\n",
       "       [1],\n",
       "       [1],\n",
       "       [1],\n",
       "       [1],\n",
       "       [0],\n",
       "       [1],\n",
       "       [1],\n",
       "       [1],\n",
       "       [1],\n",
       "       [1],\n",
       "       [0],\n",
       "       [1],\n",
       "       [1],\n",
       "       [1],\n",
       "       [1],\n",
       "       [1],\n",
       "       [1],\n",
       "       [1],\n",
       "       [1],\n",
       "       [1],\n",
       "       [1],\n",
       "       [1],\n",
       "       [1],\n",
       "       [0],\n",
       "       [0],\n",
       "       [1],\n",
       "       [0],\n",
       "       [1],\n",
       "       [1],\n",
       "       [0],\n",
       "       [0],\n",
       "       [1],\n",
       "       [0],\n",
       "       [0],\n",
       "       [1],\n",
       "       [0],\n",
       "       [0],\n",
       "       [1],\n",
       "       [1],\n",
       "       [0],\n",
       "       [1],\n",
       "       [1],\n",
       "       [0],\n",
       "       [1],\n",
       "       [1],\n",
       "       [1],\n",
       "       [0],\n",
       "       [1],\n",
       "       [1],\n",
       "       [1],\n",
       "       [0],\n",
       "       [1],\n",
       "       [0],\n",
       "       [0],\n",
       "       [1],\n",
       "       [0],\n",
       "       [0],\n",
       "       [0],\n",
       "       [0],\n",
       "       [0],\n",
       "       [1],\n",
       "       [1],\n",
       "       [0],\n",
       "       [1],\n",
       "       [0],\n",
       "       [0],\n",
       "       [1],\n",
       "       [1],\n",
       "       [1],\n",
       "       [1],\n",
       "       [1],\n",
       "       [0],\n",
       "       [1],\n",
       "       [1],\n",
       "       [1],\n",
       "       [1],\n",
       "       [1],\n",
       "       [0],\n",
       "       [0],\n",
       "       [0],\n",
       "       [1],\n",
       "       [0],\n",
       "       [1],\n",
       "       [1],\n",
       "       [0],\n",
       "       [0],\n",
       "       [0],\n",
       "       [1],\n",
       "       [0],\n",
       "       [1],\n",
       "       [1],\n",
       "       [1],\n",
       "       [0],\n",
       "       [1],\n",
       "       [1],\n",
       "       [0],\n",
       "       [1],\n",
       "       [1],\n",
       "       [1],\n",
       "       [1],\n",
       "       [1],\n",
       "       [1],\n",
       "       [1],\n",
       "       [1],\n",
       "       [0],\n",
       "       [1],\n",
       "       [1],\n",
       "       [0],\n",
       "       [1],\n",
       "       [1],\n",
       "       [1],\n",
       "       [0],\n",
       "       [1],\n",
       "       [1],\n",
       "       [0],\n",
       "       [0],\n",
       "       [0],\n",
       "       [0]])"
      ]
     },
     "execution_count": 159,
     "metadata": {},
     "output_type": "execute_result"
    }
   ],
   "source": [
    "thresh = 0.5\n",
    "\n",
    "yhat_binary = np.where(yhat > thresh, 1, 0)\n",
    "yhat_binary"
   ]
  },
  {
   "cell_type": "code",
   "execution_count": 160,
   "id": "930d5fec",
   "metadata": {},
   "outputs": [
    {
     "data": {
      "text/plain": [
       "(751,)"
      ]
     },
     "execution_count": 160,
     "metadata": {},
     "output_type": "execute_result"
    }
   ],
   "source": [
    "yy = yhat_binary.reshape(751)\n",
    "yy.shape"
   ]
  },
  {
   "cell_type": "code",
   "execution_count": 161,
   "id": "6d46e300",
   "metadata": {},
   "outputs": [
    {
     "name": "stdout",
     "output_type": "stream",
     "text": [
      "     True  Pred\n",
      "0       1     0\n",
      "1       1     0\n",
      "2       1     0\n",
      "3       1     1\n",
      "4       1     1\n",
      "..    ...   ...\n",
      "746     1     1\n",
      "747     1     0\n",
      "748     0     0\n",
      "749     0     0\n",
      "750     0     0\n",
      "\n",
      "[751 rows x 2 columns]\n"
     ]
    }
   ],
   "source": [
    "df = pandas.DataFrame({\"True\": y, \"Pred\": yy})\n",
    "print(df)"
   ]
  },
  {
   "cell_type": "markdown",
   "id": "eda3a8c1",
   "metadata": {},
   "source": [
    "### Confusion Matrix"
   ]
  },
  {
   "cell_type": "code",
   "execution_count": 162,
   "id": "a2aba360",
   "metadata": {},
   "outputs": [],
   "source": [
    "cm = confusion_matrix(y, yy)"
   ]
  },
  {
   "cell_type": "code",
   "execution_count": 164,
   "id": "4f745940",
   "metadata": {},
   "outputs": [
    {
     "data": {
      "image/png": "[encoded data removed]",
      "text/plain": [
       "<Figure size 432x288 with 2 Axes>"
      ]
     },
     "metadata": {
      "needs_background": "light"
     },
     "output_type": "display_data"
    }
   ],
   "source": [
    "from sklearn import metrics\n",
    "\n",
    "cm_display = metrics.ConfusionMatrixDisplay(confusion_matrix = cm, display_labels = ['Fear', 'Neutral'])\n",
    "\n",
    "cm_display.plot()\n",
    "plt.show()"
   ]
  },
  {
   "cell_type": "markdown",
   "id": "aba7269f",
   "metadata": {},
   "source": [
    "## ROC Curve"
   ]
  },
  {
   "cell_type": "code",
   "execution_count": 165,
   "id": "7ee53c0c",
   "metadata": {},
   "outputs": [],
   "source": [
    "from sklearn.metrics import roc_curve, auc"
   ]
  },
  {
   "cell_type": "code",
   "execution_count": 166,
   "id": "909b7dcb",
   "metadata": {},
   "outputs": [
    {
     "data": {
      "image/png": "[encoded data removed]",
      "text/plain": [
       "<Figure size 432x288 with 1 Axes>"
      ]
     },
     "metadata": {
      "needs_background": "light"
     },
     "output_type": "display_data"
    }
   ],
   "source": [
    "fpr, tpr, thresholds = roc_curve(y, yy)\n",
    "\n",
    "# Computing the AUC score\n",
    "roc_auc = auc(fpr, tpr)\n",
    "\n",
    "#Plotting the ROC curve\n",
    "plt.plot(fpr, tpr, label='ROC curve (area = %0.2f)' % roc_auc)\n",
    "plt.plot([0, 1], [0, 1], 'k--')\n",
    "plt.xlabel('False Positive Rate')\n",
    "plt.ylabel('True Positive Rate')\n",
    "plt.title('Receiver Operating Characteristic (ROC) Curve')\n",
    "plt.legend(loc='lower right')\n",
    "plt.show()"
   ]
  },
  {
   "cell_type": "markdown",
   "id": "cfea7f18",
   "metadata": {},
   "source": [
    "### Image Prediction"
   ]
  },
  {
   "cell_type": "code",
   "execution_count": 191,
   "id": "f4a25804",
   "metadata": {},
   "outputs": [
    {
     "data": {
      "image/png": "[encoded data removed]",
      "text/plain": [
       "<Figure size 144x144 with 1 Axes>"
      ]
     },
     "metadata": {
      "needs_background": "light"
     },
     "output_type": "display_data"
    }
   ],
   "source": [
    "from tensorflow.keras.preprocessing import image\n",
    "\n",
    "test_image = image.load_img('data/test/fear/PublicTest_80861502.jpg', target_size = (255,255))\n",
    "plt.figure(figsize=(2, 2))\n",
    "plt.imshow(test_image);"
   ]
  },
  {
   "cell_type": "code",
   "execution_count": 192,
   "id": "ab6ada6c",
   "metadata": {},
   "outputs": [],
   "source": [
    "test_image = image.img_to_array(test_image)\n",
    "test_image = test_image/255\n",
    "test_image = np.expand_dims(test_image, axis = 0)\n",
    "result = mod_5d.predict(test_image)"
   ]
  },
  {
   "cell_type": "code",
   "execution_count": 193,
   "id": "b62d8c11",
   "metadata": {},
   "outputs": [
    {
     "data": {
      "text/plain": [
       "array([[0.61366713]], dtype=float32)"
      ]
     },
     "execution_count": 193,
     "metadata": {},
     "output_type": "execute_result"
    }
   ],
   "source": [
    "result"
   ]
  },
  {
   "cell_type": "code",
   "execution_count": 194,
   "id": "c311ce0f",
   "metadata": {},
   "outputs": [
    {
     "name": "stdout",
     "output_type": "stream",
     "text": [
      "Emotion prediction\n",
      "\n",
      "Fear: 61.37%\n",
      "Neutral: 38.63%\n"
     ]
    }
   ],
   "source": [
    "rr = result.reshape(1)\n",
    "fear_conf = round(rr[0] * 100, 2)\n",
    "neut_conf = round(100-(rr[0] * 100), 2)\n",
    "\n",
    "print(f'Emotion prediction\\n\\nFear: {fear_conf}%\\nNeutral: {neut_conf}%')"
   ]
  },
  {
   "cell_type": "code",
   "execution_count": 195,
   "id": "19b990a9",
   "metadata": {},
   "outputs": [
    {
     "name": "stdout",
     "output_type": "stream",
     "text": [
      "Predicted class is Fear\n"
     ]
    }
   ],
   "source": [
    "if result < 0.5: \n",
    "    print(f'Predicted class is Neutral')\n",
    "else:\n",
    "    print(f'Predicted class is Fear')"
   ]
  },
  {
   "cell_type": "code",
   "execution_count": 205,
   "id": "f18c6d5e",
   "metadata": {},
   "outputs": [
    {
     "data": {
      "image/png": "[encoded data removed]",
      "text/plain": [
       "<Figure size 144x144 with 1 Axes>"
      ]
     },
     "metadata": {
      "needs_background": "light"
     },
     "output_type": "display_data"
    }
   ],
   "source": [
    "test_image2 = image.load_img('/Users/moyojimi/Desktop/Dissertation/Code/imgtest/neut.jpg', target_size = (255,255))\n",
    "plt.figure(figsize=(2, 2))\n",
    "plt.imshow(test_image2);"
   ]
  },
  {
   "cell_type": "code",
   "execution_count": 206,
   "id": "406689cf",
   "metadata": {},
   "outputs": [
    {
     "data": {
      "text/plain": [
       "array([[0.6143708]], dtype=float32)"
      ]
     },
     "execution_count": 206,
     "metadata": {},
     "output_type": "execute_result"
    }
   ],
   "source": [
    "test_image2 = image.img_to_array(test_image2)\n",
    "test_image2 = test_image2/255\n",
    "test_image2 = np.expand_dims(test_image2, axis = 0)\n",
    "result2 = mod_5d.predict(test_image2)\n",
    "result2"
   ]
  },
  {
   "cell_type": "code",
   "execution_count": 207,
   "id": "6f44886a",
   "metadata": {},
   "outputs": [
    {
     "name": "stdout",
     "output_type": "stream",
     "text": [
      "Emotion prediction\n",
      "\n",
      "Fear: 61.44%\n",
      "Neutral: 38.56%\n"
     ]
    }
   ],
   "source": [
    "rr2 = result2.reshape(1)\n",
    "fear_conf2 = round(rr2[0] * 100, 2)\n",
    "neut_conf2 = round(100-(rr2[0] * 100), 2)\n",
    "\n",
    "print(f'Emotion prediction\\n\\nFear: {fear_conf2}%\\nNeutral: {neut_conf2}%')"
   ]
  },
  {
   "cell_type": "code",
   "execution_count": 208,
   "id": "ef944d7f",
   "metadata": {},
   "outputs": [
    {
     "name": "stdout",
     "output_type": "stream",
     "text": [
      "Predicted class is Fear\n"
     ]
    }
   ],
   "source": [
    "if result2 < 0.5: \n",
    "    print(f'Predicted class is Neutral')\n",
    "else:\n",
    "    print(f'Predicted class is Fear')"
   ]
  },
  {
   "cell_type": "markdown",
   "id": "aa09f1b5",
   "metadata": {},
   "source": [
    "## Conclusion"
   ]
  },
  {
   "cell_type": "markdown",
   "id": "39eb7696",
   "metadata": {},
   "source": [
    "The fear-neutral image classifier was trained on balanced datasets and was able to achieve a decent accuracy score. Initially the model was overfitting but the implemenation of data augmentation and a dropout layer improved the model and it fit well to the training data. Unfortunately, the model was not able to make the correct predictions on the neutral test image. This could be due to the fact that neutral expressions are more subtle and less distinguishable than fear expressions, making it harder for the model to learn the relevant features."
   ]
  }
 ],
 "metadata": {
  "kernelspec": {
   "display_name": "Python 3 (ipykernel)",
   "language": "python",
   "name": "python3"
  },
  "language_info": {
   "codemirror_mode": {
    "name": "ipython",
    "version": 3
   },
   "file_extension": ".py",
   "mimetype": "text/x-python",
   "name": "python",
   "nbconvert_exporter": "python",
   "pygments_lexer": "ipython3",
   "version": "3.9.7"
  }
 },
 "nbformat": 4,
 "nbformat_minor": 5
}
